{
 "cells": [
  {
   "cell_type": "markdown",
   "metadata": {
    "deletable": true,
    "editable": true
   },
   "source": [
    "# TV Script Generation\n",
    "In this project, you'll generate your own [Simpsons](https://en.wikipedia.org/wiki/The_Simpsons) TV scripts using RNNs.  You'll be using part of the [Simpsons dataset](https://www.kaggle.com/wcukierski/the-simpsons-by-the-data) of scripts from 27 seasons.  The Neural Network you'll build will generate a new TV script for a scene at [Moe's Tavern](https://simpsonswiki.com/wiki/Moe's_Tavern).\n",
    "## Get the Data\n",
    "The data is already provided for you.  You'll be using a subset of the original dataset.  It consists of only the scenes in Moe's Tavern.  This doesn't include other versions of the tavern, like \"Moe's Cavern\", \"Flaming Moe's\", \"Uncle Moe's Family Feed-Bag\", etc.."
   ]
  },
  {
   "cell_type": "code",
   "execution_count": 1,
   "metadata": {
    "collapsed": false,
    "deletable": true,
    "editable": true
   },
   "outputs": [],
   "source": [
    "\"\"\"\n",
    "DON'T MODIFY ANYTHING IN THIS CELL\n",
    "\"\"\"\n",
    "import helper\n",
    "\n",
    "data_dir = './data/simpsons/moes_tavern_lines.txt'\n",
    "text = helper.load_data(data_dir)\n",
    "# Ignore notice, since we don't use it for analysing the data\n",
    "text = text[81:]"
   ]
  },
  {
   "cell_type": "markdown",
   "metadata": {
    "deletable": true,
    "editable": true
   },
   "source": [
    "## Explore the Data\n",
    "Play around with `view_sentence_range` to view different parts of the data."
   ]
  },
  {
   "cell_type": "code",
   "execution_count": 2,
   "metadata": {
    "collapsed": false,
    "deletable": true,
    "editable": true
   },
   "outputs": [
    {
     "name": "stdout",
     "output_type": "stream",
     "text": [
      "Dataset Stats\n",
      "Roughly the number of unique words: 11490\n",
      "Number of scenes: 262\n",
      "Average number of sentences in each scene: 15.251908396946565\n",
      "Number of lines: 4258\n",
      "Average number of words in each line: 11.50164396430249\n",
      "\n",
      "The sentences 10 to 20:\n",
      "Moe_Szyslak: Ah, isn't that nice. Now, there is a politician who cares.\n",
      "Barney_Gumble: If I ever vote, it'll be for him. (BELCH)\n",
      "\n",
      "\n",
      "Barney_Gumble: Hey Homer, how's your neighbor's store doing?\n",
      "Homer_Simpson: Lousy. He just sits there all day. He'd have a great job if he didn't own the place. (CHUCKLES)\n",
      "Moe_Szyslak: (STRUGGLING WITH CORKSCREW) Crummy right-handed corkscrews! What does he sell?\n",
      "Homer_Simpson: Uh, well actually, Moe...\n",
      "HOMER_(CONT'D: I dunno.\n",
      "\n"
     ]
    }
   ],
   "source": [
    "view_sentence_range = (10, 20)\n",
    "\n",
    "\"\"\"\n",
    "DON'T MODIFY ANYTHING IN THIS CELL\n",
    "\"\"\"\n",
    "import numpy as np\n",
    "\n",
    "print('Dataset Stats')\n",
    "print('Roughly the number of unique words: {}'.format(len({word: None for word in text.split()})))\n",
    "scenes = text.split('\\n\\n')\n",
    "print('Number of scenes: {}'.format(len(scenes)))\n",
    "sentence_count_scene = [scene.count('\\n') for scene in scenes]\n",
    "print('Average number of sentences in each scene: {}'.format(np.average(sentence_count_scene)))\n",
    "\n",
    "sentences = [sentence for scene in scenes for sentence in scene.split('\\n')]\n",
    "print('Number of lines: {}'.format(len(sentences)))\n",
    "word_count_sentence = [len(sentence.split()) for sentence in sentences]\n",
    "print('Average number of words in each line: {}'.format(np.average(word_count_sentence)))\n",
    "\n",
    "print()\n",
    "print('The sentences {} to {}:'.format(*view_sentence_range))\n",
    "print('\\n'.join(text.split('\\n')[view_sentence_range[0]:view_sentence_range[1]]))"
   ]
  },
  {
   "cell_type": "markdown",
   "metadata": {
    "deletable": true,
    "editable": true
   },
   "source": [
    "## Implement Preprocessing Functions\n",
    "The first thing to do to any dataset is preprocessing.  Implement the following preprocessing functions below:\n",
    "- Lookup Table\n",
    "- Tokenize Punctuation\n",
    "\n",
    "### Lookup Table\n",
    "To create a word embedding, you first need to transform the words to ids.  In this function, create two dictionaries:\n",
    "- Dictionary to go from the words to an id, we'll call `vocab_to_int`\n",
    "- Dictionary to go from the id to word, we'll call `int_to_vocab`\n",
    "\n",
    "Return these dictionaries in the following tuple `(vocab_to_int, int_to_vocab)`"
   ]
  },
  {
   "cell_type": "code",
   "execution_count": 3,
   "metadata": {
    "collapsed": false,
    "deletable": true,
    "editable": true
   },
   "outputs": [
    {
     "name": "stdout",
     "output_type": "stream",
     "text": [
      "Tests Passed\n"
     ]
    }
   ],
   "source": [
    "import numpy as np\n",
    "import problem_unittests as tests\n",
    "\n",
    "def create_lookup_tables(text):\n",
    "    \"\"\"\n",
    "    Create lookup tables for vocabulary\n",
    "    :param text: The text of tv scripts split into words\n",
    "    :return: A tuple of dicts (vocab_to_int, int_to_vocab)\n",
    "    \"\"\"\n",
    "    vocababulary = set(text)\n",
    "    \n",
    "    # Dictionary to go from the words to an id, we'll call vocab_to_int\n",
    "    vocab_to_int = {word: integer for integer, word in enumerate(vocababulary)}\n",
    "    \n",
    "    #Dictionary to go from the id to word, we'll call int_to_vocab\n",
    "    int_to_vocab = {integer: word for integer, word in enumerate(vocababulary)}\n",
    "    \n",
    "    return (vocab_to_int, int_to_vocab)\n",
    "\n",
    "\n",
    "\"\"\"\n",
    "DON'T MODIFY ANYTHING IN THIS CELL THAT IS BELOW THIS LINE\n",
    "\"\"\"\n",
    "tests.test_create_lookup_tables(create_lookup_tables)"
   ]
  },
  {
   "cell_type": "markdown",
   "metadata": {
    "deletable": true,
    "editable": true
   },
   "source": [
    "### Tokenize Punctuation\n",
    "We'll be splitting the script into a word array using spaces as delimiters.  However, punctuations like periods and exclamation marks make it hard for the neural network to distinguish between the word \"bye\" and \"bye!\".\n",
    "\n",
    "Implement the function `token_lookup` to return a dict that will be used to tokenize symbols like \"!\" into \"||Exclamation_Mark||\".  Create a dictionary for the following symbols where the symbol is the key and value is the token:\n",
    "- Period ( . )\n",
    "- Comma ( , )\n",
    "- Quotation Mark ( \" )\n",
    "- Semicolon ( ; )\n",
    "- Exclamation mark ( ! )\n",
    "- Question mark ( ? )\n",
    "- Left Parentheses ( ( )\n",
    "- Right Parentheses ( ) )\n",
    "- Dash ( -- )\n",
    "- Return ( \\n )\n",
    "\n",
    "This dictionary will be used to token the symbols and add the delimiter (space) around it.  This separates the symbols as it's own word, making it easier for the neural network to predict on the next word. Make sure you don't use a token that could be confused as a word. Instead of using the token \"dash\", try using something like \"||dash||\"."
   ]
  },
  {
   "cell_type": "code",
   "execution_count": 4,
   "metadata": {
    "collapsed": false,
    "deletable": true,
    "editable": true
   },
   "outputs": [
    {
     "name": "stdout",
     "output_type": "stream",
     "text": [
      "Tests Passed\n"
     ]
    }
   ],
   "source": [
    "def token_lookup():\n",
    "    \"\"\"\n",
    "    Generate a dict to turn punctuation into a token.\n",
    "    :return: Tokenize dictionary where the key is the punctuation and the value is the token\n",
    "    \"\"\"\n",
    "    return {\n",
    "        r\".\":r\"||Period||\",\n",
    "        r\",\":r\"||Comma||\",\n",
    "        r'\"':r\"||Quotation_Mark||\",\n",
    "        r\";\":r\"||Semicolon||\",\n",
    "        r\"!\":r\"||Exclamation_Mark||\",\n",
    "        r\"?\":r\"||Question_Mark||\",\n",
    "        r\"(\":r\"||Left_Parentheses||\",\n",
    "        r\")\":r\"||Right_Parentheses||\",\n",
    "        r\"--\":r\"||Dash||\",\n",
    "        \"\\n\":r\"||Return||\",\n",
    "    }\n",
    "\n",
    "\"\"\"\n",
    "DON'T MODIFY ANYTHING IN THIS CELL THAT IS BELOW THIS LINE\n",
    "\"\"\"\n",
    "tests.test_tokenize(token_lookup)"
   ]
  },
  {
   "cell_type": "markdown",
   "metadata": {
    "deletable": true,
    "editable": true
   },
   "source": [
    "## Preprocess all the data and save it\n",
    "Running the code cell below will preprocess all the data and save it to file."
   ]
  },
  {
   "cell_type": "code",
   "execution_count": 5,
   "metadata": {
    "collapsed": false,
    "deletable": true,
    "editable": true
   },
   "outputs": [],
   "source": [
    "\"\"\"\n",
    "DON'T MODIFY ANYTHING IN THIS CELL\n",
    "\"\"\"\n",
    "# Preprocess Training, Validation, and Testing Data\n",
    "helper.preprocess_and_save_data(data_dir, token_lookup, create_lookup_tables)"
   ]
  },
  {
   "cell_type": "markdown",
   "metadata": {
    "deletable": true,
    "editable": true
   },
   "source": [
    "# Check Point\n",
    "This is your first checkpoint. If you ever decide to come back to this notebook or have to restart the notebook, you can start from here. The preprocessed data has been saved to disk."
   ]
  },
  {
   "cell_type": "code",
   "execution_count": 6,
   "metadata": {
    "collapsed": false,
    "deletable": true,
    "editable": true
   },
   "outputs": [],
   "source": [
    "\"\"\"\n",
    "DON'T MODIFY ANYTHING IN THIS CELL\n",
    "\"\"\"\n",
    "import helper\n",
    "import numpy as np\n",
    "import problem_unittests as tests\n",
    "\n",
    "int_text, vocab_to_int, int_to_vocab, token_dict = helper.load_preprocess()"
   ]
  },
  {
   "cell_type": "markdown",
   "metadata": {
    "deletable": true,
    "editable": true
   },
   "source": [
    "## Build the Neural Network\n",
    "You'll build the components necessary to build a RNN by implementing the following functions below:\n",
    "- get_inputs\n",
    "- get_init_cell\n",
    "- get_embed\n",
    "- build_rnn\n",
    "- build_nn\n",
    "- get_batches\n",
    "\n",
    "### Check the Version of TensorFlow and Access to GPU"
   ]
  },
  {
   "cell_type": "code",
   "execution_count": 7,
   "metadata": {
    "collapsed": false,
    "deletable": true,
    "editable": true
   },
   "outputs": [
    {
     "name": "stdout",
     "output_type": "stream",
     "text": [
      "TensorFlow Version: 1.0.0\n",
      "Default GPU Device: /gpu:0\n"
     ]
    }
   ],
   "source": [
    "\"\"\"\n",
    "DON'T MODIFY ANYTHING IN THIS CELL\n",
    "\"\"\"\n",
    "from distutils.version import LooseVersion\n",
    "import warnings\n",
    "import tensorflow as tf\n",
    "\n",
    "# Check TensorFlow Version\n",
    "assert LooseVersion(tf.__version__) >= LooseVersion('1.0'), 'Please use TensorFlow version 1.0 or newer'\n",
    "print('TensorFlow Version: {}'.format(tf.__version__))\n",
    "\n",
    "# Check for a GPU\n",
    "if not tf.test.gpu_device_name():\n",
    "    warnings.warn('No GPU found. Please use a GPU to train your neural network.')\n",
    "else:\n",
    "    print('Default GPU Device: {}'.format(tf.test.gpu_device_name()))"
   ]
  },
  {
   "cell_type": "markdown",
   "metadata": {
    "deletable": true,
    "editable": true
   },
   "source": [
    "### Input\n",
    "Implement the `get_inputs()` function to create TF Placeholders for the Neural Network.  It should create the following placeholders:\n",
    "- Input text placeholder named \"input\" using the [TF Placeholder](https://www.tensorflow.org/api_docs/python/tf/placeholder) `name` parameter.\n",
    "- Targets placeholder\n",
    "- Learning Rate placeholder\n",
    "\n",
    "Return the placeholders in the following the tuple `(Input, Targets, LearingRate)`"
   ]
  },
  {
   "cell_type": "code",
   "execution_count": 8,
   "metadata": {
    "collapsed": false,
    "deletable": true,
    "editable": true
   },
   "outputs": [
    {
     "name": "stdout",
     "output_type": "stream",
     "text": [
      "Tests Passed\n"
     ]
    }
   ],
   "source": [
    "def get_inputs():\n",
    "    \"\"\"\n",
    "    Create TF Placeholders for input, targets, and learning rate.\n",
    "    :return: Tuple (input, targets, learning rate)\n",
    "    \"\"\"\n",
    "    inputs = tf.placeholder(tf.int32,(None,None),name=\"input\")\n",
    "    targets = tf.placeholder(tf.int32,(None,None),name=\"targets\")\n",
    "    learning_rate = tf.placeholder(tf.float32,name=\"learning_rate\")\n",
    "    return inputs, targets, learning_rate\n",
    "\n",
    "\n",
    "\"\"\"\n",
    "DON'T MODIFY ANYTHING IN THIS CELL THAT IS BELOW THIS LINE\n",
    "\"\"\"\n",
    "tests.test_get_inputs(get_inputs)"
   ]
  },
  {
   "cell_type": "markdown",
   "metadata": {
    "deletable": true,
    "editable": true
   },
   "source": [
    "### Build RNN Cell and Initialize\n",
    "Stack one or more [`BasicLSTMCells`](https://www.tensorflow.org/api_docs/python/tf/contrib/rnn/BasicLSTMCell) in a [`MultiRNNCell`](https://www.tensorflow.org/api_docs/python/tf/contrib/rnn/MultiRNNCell).\n",
    "- The Rnn size should be set using `rnn_size`\n",
    "- Initalize Cell State using the MultiRNNCell's [`zero_state()`](https://www.tensorflow.org/api_docs/python/tf/contrib/rnn/MultiRNNCell#zero_state) function\n",
    "    - Apply the name \"initial_state\" to the initial state using [`tf.identity()`](https://www.tensorflow.org/api_docs/python/tf/identity)\n",
    "\n",
    "Return the cell and initial state in the following tuple `(Cell, InitialState)`"
   ]
  },
  {
   "cell_type": "code",
   "execution_count": 71,
   "metadata": {
    "collapsed": false,
    "deletable": true,
    "editable": true
   },
   "outputs": [
    {
     "name": "stdout",
     "output_type": "stream",
     "text": [
      "Tests Passed\n"
     ]
    }
   ],
   "source": [
    "from tensorflow.contrib.rnn import DropoutWrapper, BasicLSTMCell, MultiRNNCell, GRUCell\n",
    "\n",
    "def get_init_cell(batch_size, rnn_size):\n",
    "    \"\"\"\n",
    "    Create an RNN Cell and initialize it.\n",
    "    :param batch_size: Size of batches\n",
    "    :param rnn_size: Size of RNNs\n",
    "    :return: Tuple (cell, initialize state)\n",
    "    \"\"\"\n",
    "    n_layers = 1\n",
    "\n",
    "    # lstm_cell = BasicLSTMCell(rnn_size)\n",
    "    gru_cell = GRUCell(num_units = rnn_size)\n",
    "    \n",
    "    # this doesn't work\n",
    "    # keep_prob = 0.5\n",
    "    # cell_drop = DropoutWrapper(lstm_cell, input_keep_prob=keep_prob)\n",
    "\n",
    "    cell = MultiRNNCell([gru_cell] * n_layers)\n",
    "    \n",
    "    initial_state = cell.zero_state(batch_size, tf.float32)\n",
    "    initial_state = tf.identity(initial_state,name=\"initial_state\")\n",
    "    return cell, initial_state\n",
    "\n",
    "\n",
    "\"\"\"\n",
    "DON'T MODIFY ANYTHING IN THIS CELL THAT IS BELOW THIS LINE\n",
    "\"\"\"\n",
    "tests.test_get_init_cell(get_init_cell)"
   ]
  },
  {
   "cell_type": "markdown",
   "metadata": {
    "deletable": true,
    "editable": true
   },
   "source": [
    "### Word Embedding\n",
    "Apply embedding to `input_data` using TensorFlow.  Return the embedded sequence."
   ]
  },
  {
   "cell_type": "code",
   "execution_count": 72,
   "metadata": {
    "collapsed": false,
    "deletable": true,
    "editable": true
   },
   "outputs": [
    {
     "name": "stdout",
     "output_type": "stream",
     "text": [
      "Tests Passed\n"
     ]
    }
   ],
   "source": [
    "from tensorflow import Variable\n",
    "\n",
    "def get_embed(input_data, vocab_size, embed_dim):\n",
    "    \"\"\"\n",
    "    Create embedding for <input_data>.\n",
    "    :param input_data: TF placeholder for text input.\n",
    "    :param vocab_size: Number of words in vocabulary.\n",
    "    :param embed_dim: Number of embedding dimensions\n",
    "    :return: Embedded input.\n",
    "    \"\"\"\n",
    "    embeddings = Variable(tf.random_uniform((vocab_size, embed_dim), -1, 1))\n",
    "    return tf.nn.embedding_lookup(embeddings, input_data)\n",
    "\n",
    "\n",
    "\"\"\"\n",
    "DON'T MODIFY ANYTHING IN THIS CELL THAT IS BELOW THIS LINE\n",
    "\"\"\"\n",
    "tests.test_get_embed(get_embed)"
   ]
  },
  {
   "cell_type": "markdown",
   "metadata": {
    "deletable": true,
    "editable": true
   },
   "source": [
    "### Build RNN\n",
    "You created a RNN Cell in the `get_init_cell()` function.  Time to use the cell to create a RNN.\n",
    "- Build the RNN using the [`tf.nn.dynamic_rnn()`](https://www.tensorflow.org/api_docs/python/tf/nn/dynamic_rnn)\n",
    " - Apply the name \"final_state\" to the final state using [`tf.identity()`](https://www.tensorflow.org/api_docs/python/tf/identity)\n",
    "\n",
    "Return the outputs and final_state state in the following tuple `(Outputs, FinalState)` "
   ]
  },
  {
   "cell_type": "code",
   "execution_count": 73,
   "metadata": {
    "collapsed": false,
    "deletable": true,
    "editable": true
   },
   "outputs": [
    {
     "name": "stdout",
     "output_type": "stream",
     "text": [
      "Tests Passed\n"
     ]
    }
   ],
   "source": [
    "# The dynamic_rnn() function uses a while_loop() operation to run over the cell the appropriate number of times. \n",
    "# Conveniently, it also accepts a single tensor for all inputs at every time step (shape [None, n_steps, n_inputs])\n",
    "# and it outputs a single tensor for all outputs at every time step (shape [None, n_steps, n_neurons]); \n",
    "#\n",
    "# The following code creates the same RNN as earlier using the dynamic_rnn() function. \n",
    "\n",
    "def build_rnn(cell, inputs):\n",
    "    \"\"\"\n",
    "    Create a RNN using a RNN Cell\n",
    "    :param cell: RNN Cell\n",
    "    :param inputs: Input text data\n",
    "    :return: Tuple (Outputs, Final State)\n",
    "    \"\"\"\n",
    "    outputs, state = tf.nn.dynamic_rnn(cell, inputs,dtype=tf.float32)\n",
    "    final_state = tf.identity(state,\"final_state\")\n",
    "    return outputs,  final_state\n",
    "\n",
    "\n",
    "\"\"\"\n",
    "DON'T MODIFY ANYTHING IN THIS CELL THAT IS BELOW THIS LINE\n",
    "\"\"\"\n",
    "tests.test_build_rnn(build_rnn)"
   ]
  },
  {
   "cell_type": "markdown",
   "metadata": {
    "deletable": true,
    "editable": true
   },
   "source": [
    "### Build the Neural Network\n",
    "Apply the functions you implemented above to:\n",
    "- Apply embedding to `input_data` using your `get_embed(input_data, vocab_size, embed_dim)` function.\n",
    "- Build RNN using `cell` and your `build_rnn(cell, inputs)` function.\n",
    "- Apply a fully connected layer with a linear activation and `vocab_size` as the number of outputs.\n",
    "\n",
    "Return the logits and final state in the following tuple (Logits, FinalState) "
   ]
  },
  {
   "cell_type": "code",
   "execution_count": 74,
   "metadata": {
    "collapsed": false,
    "deletable": true,
    "editable": true
   },
   "outputs": [
    {
     "name": "stdout",
     "output_type": "stream",
     "text": [
      "Tests Passed\n"
     ]
    }
   ],
   "source": [
    "from tensorflow.contrib.layers import fully_connected\n",
    "\n",
    "\n",
    "def build_nn(cell, rnn_size, input_data, vocab_size):\n",
    "    \"\"\"\n",
    "    Build part of the neural network\n",
    "    :param cell: RNN cell\n",
    "    :param rnn_size: Size of rnns\n",
    "    :param input_data: Input data\n",
    "    :param vocab_size: Vocabulary size\n",
    "    :return: Tuple (Logits, FinalState)\n",
    "    \"\"\"\n",
    "    embed = get_embed(input_data, vocab_size, rnn_size)\n",
    "    rnn_output, final_state = build_rnn(cell, embed)\n",
    "    \n",
    "    logits = fully_connected(rnn_output, vocab_size, activation_fn=None) \n",
    "    \n",
    "    return logits, final_state\n",
    "\n",
    "\n",
    "\"\"\"\n",
    "DON'T MODIFY ANYTHING IN THIS CELL THAT IS BELOW THIS LINE\n",
    "\"\"\"\n",
    "tests.test_build_nn(build_nn)"
   ]
  },
  {
   "cell_type": "markdown",
   "metadata": {
    "deletable": true,
    "editable": true
   },
   "source": [
    "### Batches\n",
    "Implement `get_batches` to create batches of input and targets using `int_text`.  The batches should be a Numpy array with the shape `(number of batches, 2, batch size, sequence length)`. Each batch contains two elements:\n",
    "- The first element is a single batch of **input** with the shape `[batch size, sequence length]`\n",
    "- The second element is a single batch of **targets** with the shape `[batch size, sequence length]`\n",
    "\n",
    "If you can't fill the last batch with enough data, drop the last batch.\n",
    "\n",
    "For exmple, `get_batches([1, 2, 3, 4, 5, 6, 7, 8, 9, 10, 11, 12, 13, 14, 15], 2, 3)` would return a Numpy array of the following:\n",
    "```\n",
    "[\n",
    "  # First Batch\n",
    "  [\n",
    "    # Batch of Input\n",
    "    [[ 1  2  3], [ 7  8  9]],\n",
    "    # Batch of targets\n",
    "    [[ 2  3  4], [ 8  9 10]]\n",
    "  ],\n",
    " \n",
    "  # Second Batch\n",
    "  [\n",
    "    # Batch of Input\n",
    "    [[ 4  5  6], [10 11 12]],\n",
    "    # Batch of targets\n",
    "    [[ 5  6  7], [11 12 13]]\n",
    "  ]\n",
    "]\n",
    "```"
   ]
  },
  {
   "cell_type": "code",
   "execution_count": 75,
   "metadata": {
    "collapsed": false,
    "deletable": true,
    "editable": true
   },
   "outputs": [
    {
     "name": "stdout",
     "output_type": "stream",
     "text": [
      "Tests Passed\n"
     ]
    }
   ],
   "source": [
    "def get_batches(int_text, batch_size, seq_length):\n",
    "    \"\"\"\n",
    "    Return batches of input and target\n",
    "    :param int_text: Text with the words replaced by their ids\n",
    "    :param batch_size: The size of batch\n",
    "    :param seq_length: The length of sequence\n",
    "    :return: Batches as a Numpy array\n",
    "    \"\"\"\n",
    "    # TODO: Implement Function\n",
    "    batches=[]\n",
    "    n_batches = int(len(int_text) // (batch_size * seq_length))\n",
    "\n",
    "    int_text_x = np.array(int_text[:n_batches * (batch_size * seq_length)])\n",
    "    int_text_y = np.array(int_text[1:n_batches * (batch_size * seq_length) + 1])\n",
    "\n",
    "    x_batches = np.split(int_text_x, n_batches)\n",
    "    y_batches = np.split(int_text_y, n_batches)\n",
    "    for i in range(n_batches):\n",
    "        x=np.split(x_batches[i], batch_size)\n",
    "        y=np.split(y_batches[i], batch_size)\n",
    "        pairs=np.stack((x,y))\n",
    "        batches.append(pairs)\n",
    "\n",
    "    return np.array(batches)\n",
    "\n",
    "\n",
    "\"\"\"\n",
    "DON'T MODIFY ANYTHING IN THIS CELL THAT IS BELOW THIS LINE\n",
    "\"\"\"\n",
    "tests.test_get_batches(get_batches)"
   ]
  },
  {
   "cell_type": "markdown",
   "metadata": {
    "deletable": true,
    "editable": true
   },
   "source": [
    "## Neural Network Training\n",
    "### Hyperparameters\n",
    "Tune the following parameters:\n",
    "\n",
    "- Set `num_epochs` to the number of epochs.\n",
    "- Set `batch_size` to the batch size.\n",
    "- Set `rnn_size` to the size of the RNNs.\n",
    "- Set `seq_length` to the length of sequence.\n",
    "- Set `learning_rate` to the learning rate.\n",
    "- Set `show_every_n_batches` to the number of batches the neural network should print progress."
   ]
  },
  {
   "cell_type": "code",
   "execution_count": 76,
   "metadata": {
    "collapsed": true,
    "deletable": true,
    "editable": true
   },
   "outputs": [],
   "source": [
    "# Number of Epochs\n",
    "num_epochs = 100\n",
    "# Batch Size\n",
    "batch_size = 128\n",
    "# RNN Size\n",
    "rnn_size = 128\n",
    "# Sequence Length\n",
    "seq_length = 30\n",
    "# Learning Rate\n",
    "learning_rate = 0.01\n",
    "# Show stats for every n number of batches\n",
    "show_every_n_batches = 10\n",
    "\n",
    "\"\"\"\n",
    "DON'T MODIFY ANYTHING IN THIS CELL THAT IS BELOW THIS LINE\n",
    "\"\"\"\n",
    "save_dir = './save'"
   ]
  },
  {
   "cell_type": "markdown",
   "metadata": {
    "deletable": true,
    "editable": true
   },
   "source": [
    "### Build the Graph\n",
    "Build the graph using the neural network you implemented."
   ]
  },
  {
   "cell_type": "code",
   "execution_count": 77,
   "metadata": {
    "collapsed": false,
    "deletable": true,
    "editable": true
   },
   "outputs": [],
   "source": [
    "\"\"\"\n",
    "DON'T MODIFY ANYTHING IN THIS CELL\n",
    "\"\"\"\n",
    "from tensorflow.contrib import seq2seq\n",
    "\n",
    "train_graph = tf.Graph()\n",
    "with train_graph.as_default():\n",
    "    vocab_size = len(int_to_vocab)\n",
    "    input_text, targets, lr = get_inputs()\n",
    "    input_data_shape = tf.shape(input_text)\n",
    "    cell, initial_state = get_init_cell(input_data_shape[0], rnn_size)\n",
    "    logits, final_state = build_nn(cell, rnn_size, input_text, vocab_size)\n",
    "\n",
    "    # Probabilities for generating words\n",
    "    probs = tf.nn.softmax(logits, name='probs')\n",
    "\n",
    "    # Loss function\n",
    "    cost = seq2seq.sequence_loss(\n",
    "        logits,\n",
    "        targets,\n",
    "        tf.ones([input_data_shape[0], input_data_shape[1]]))\n",
    "\n",
    "    # Optimizer\n",
    "    optimizer = tf.train.AdamOptimizer(lr)\n",
    "\n",
    "    # Gradient Clipping\n",
    "    gradients = optimizer.compute_gradients(cost)\n",
    "    capped_gradients = [(tf.clip_by_value(grad, -1., 1.), var) for grad, var in gradients]\n",
    "    train_op = optimizer.apply_gradients(capped_gradients)"
   ]
  },
  {
   "cell_type": "markdown",
   "metadata": {
    "deletable": true,
    "editable": true
   },
   "source": [
    "## Train\n",
    "Train the neural network on the preprocessed data.  If you have a hard time getting a good loss, check the [forms](https://discussions.udacity.com/) to see if anyone is having the same problem."
   ]
  },
  {
   "cell_type": "code",
   "execution_count": 78,
   "metadata": {
    "collapsed": false,
    "deletable": true,
    "editable": true
   },
   "outputs": [
    {
     "name": "stdout",
     "output_type": "stream",
     "text": [
      "Epoch   0 Batch    0/17   train_loss = 8.821\n",
      "Epoch   0 Batch   10/17   train_loss = 6.550\n",
      "Epoch   1 Batch    3/17   train_loss = 5.948\n",
      "Epoch   1 Batch   13/17   train_loss = 5.855\n",
      "Epoch   2 Batch    6/17   train_loss = 5.350\n",
      "Epoch   2 Batch   16/17   train_loss = 5.428\n",
      "Epoch   3 Batch    9/17   train_loss = 5.117\n",
      "Epoch   4 Batch    2/17   train_loss = 4.872\n",
      "Epoch   4 Batch   12/17   train_loss = 4.860\n",
      "Epoch   5 Batch    5/17   train_loss = 4.612\n",
      "Epoch   5 Batch   15/17   train_loss = 4.548\n",
      "Epoch   6 Batch    8/17   train_loss = 4.283\n",
      "Epoch   7 Batch    1/17   train_loss = 4.127\n",
      "Epoch   7 Batch   11/17   train_loss = 4.116\n",
      "Epoch   8 Batch    4/17   train_loss = 3.915\n",
      "Epoch   8 Batch   14/17   train_loss = 3.910\n",
      "Epoch   9 Batch    7/17   train_loss = 3.650\n",
      "Epoch  10 Batch    0/17   train_loss = 3.527\n",
      "Epoch  10 Batch   10/17   train_loss = 3.426\n",
      "Epoch  11 Batch    3/17   train_loss = 3.323\n",
      "Epoch  11 Batch   13/17   train_loss = 3.283\n",
      "Epoch  12 Batch    6/17   train_loss = 3.117\n",
      "Epoch  12 Batch   16/17   train_loss = 3.046\n",
      "Epoch  13 Batch    9/17   train_loss = 2.991\n",
      "Epoch  14 Batch    2/17   train_loss = 2.933\n",
      "Epoch  14 Batch   12/17   train_loss = 2.814\n",
      "Epoch  15 Batch    5/17   train_loss = 2.641\n",
      "Epoch  15 Batch   15/17   train_loss = 2.714\n",
      "Epoch  16 Batch    8/17   train_loss = 2.680\n",
      "Epoch  17 Batch    1/17   train_loss = 2.568\n",
      "Epoch  17 Batch   11/17   train_loss = 2.548\n",
      "Epoch  18 Batch    4/17   train_loss = 2.495\n",
      "Epoch  18 Batch   14/17   train_loss = 2.408\n",
      "Epoch  19 Batch    7/17   train_loss = 2.426\n",
      "Epoch  20 Batch    0/17   train_loss = 2.337\n",
      "Epoch  20 Batch   10/17   train_loss = 2.266\n",
      "Epoch  21 Batch    3/17   train_loss = 2.287\n",
      "Epoch  21 Batch   13/17   train_loss = 2.252\n",
      "Epoch  22 Batch    6/17   train_loss = 2.267\n",
      "Epoch  22 Batch   16/17   train_loss = 2.175\n",
      "Epoch  23 Batch    9/17   train_loss = 2.146\n",
      "Epoch  24 Batch    2/17   train_loss = 2.128\n",
      "Epoch  24 Batch   12/17   train_loss = 2.025\n",
      "Epoch  25 Batch    5/17   train_loss = 1.872\n",
      "Epoch  25 Batch   15/17   train_loss = 1.990\n",
      "Epoch  26 Batch    8/17   train_loss = 1.977\n",
      "Epoch  27 Batch    1/17   train_loss = 1.923\n",
      "Epoch  27 Batch   11/17   train_loss = 1.890\n",
      "Epoch  28 Batch    4/17   train_loss = 1.866\n",
      "Epoch  28 Batch   14/17   train_loss = 1.807\n",
      "Epoch  29 Batch    7/17   train_loss = 1.874\n",
      "Epoch  30 Batch    0/17   train_loss = 1.793\n",
      "Epoch  30 Batch   10/17   train_loss = 1.722\n",
      "Epoch  31 Batch    3/17   train_loss = 1.769\n",
      "Epoch  31 Batch   13/17   train_loss = 1.684\n",
      "Epoch  32 Batch    6/17   train_loss = 1.825\n",
      "Epoch  32 Batch   16/17   train_loss = 1.694\n",
      "Epoch  33 Batch    9/17   train_loss = 1.654\n",
      "Epoch  34 Batch    2/17   train_loss = 1.700\n",
      "Epoch  34 Batch   12/17   train_loss = 1.603\n",
      "Epoch  35 Batch    5/17   train_loss = 1.461\n",
      "Epoch  35 Batch   15/17   train_loss = 1.570\n",
      "Epoch  36 Batch    8/17   train_loss = 1.559\n",
      "Epoch  37 Batch    1/17   train_loss = 1.514\n",
      "Epoch  37 Batch   11/17   train_loss = 1.468\n",
      "Epoch  38 Batch    4/17   train_loss = 1.466\n",
      "Epoch  38 Batch   14/17   train_loss = 1.402\n",
      "Epoch  39 Batch    7/17   train_loss = 1.503\n",
      "Epoch  40 Batch    0/17   train_loss = 1.390\n",
      "Epoch  40 Batch   10/17   train_loss = 1.369\n",
      "Epoch  41 Batch    3/17   train_loss = 1.402\n",
      "Epoch  41 Batch   13/17   train_loss = 1.326\n",
      "Epoch  42 Batch    6/17   train_loss = 1.497\n",
      "Epoch  42 Batch   16/17   train_loss = 1.364\n",
      "Epoch  43 Batch    9/17   train_loss = 1.325\n",
      "Epoch  44 Batch    2/17   train_loss = 1.363\n",
      "Epoch  44 Batch   12/17   train_loss = 1.326\n",
      "Epoch  45 Batch    5/17   train_loss = 1.197\n",
      "Epoch  45 Batch   15/17   train_loss = 1.287\n",
      "Epoch  46 Batch    8/17   train_loss = 1.269\n",
      "Epoch  47 Batch    1/17   train_loss = 1.266\n",
      "Epoch  47 Batch   11/17   train_loss = 1.236\n",
      "Epoch  48 Batch    4/17   train_loss = 1.243\n",
      "Epoch  48 Batch   14/17   train_loss = 1.223\n",
      "Epoch  49 Batch    7/17   train_loss = 1.318\n",
      "Epoch  50 Batch    0/17   train_loss = 1.230\n",
      "Epoch  50 Batch   10/17   train_loss = 1.201\n",
      "Epoch  51 Batch    3/17   train_loss = 1.254\n",
      "Epoch  51 Batch   13/17   train_loss = 1.143\n",
      "Epoch  52 Batch    6/17   train_loss = 1.318\n",
      "Epoch  52 Batch   16/17   train_loss = 1.180\n",
      "Epoch  53 Batch    9/17   train_loss = 1.132\n",
      "Epoch  54 Batch    2/17   train_loss = 1.161\n",
      "Epoch  54 Batch   12/17   train_loss = 1.123\n",
      "Epoch  55 Batch    5/17   train_loss = 1.007\n",
      "Epoch  55 Batch   15/17   train_loss = 1.066\n",
      "Epoch  56 Batch    8/17   train_loss = 1.090\n",
      "Epoch  57 Batch    1/17   train_loss = 1.047\n",
      "Epoch  57 Batch   11/17   train_loss = 1.000\n",
      "Epoch  58 Batch    4/17   train_loss = 1.020\n",
      "Epoch  58 Batch   14/17   train_loss = 0.976\n",
      "Epoch  59 Batch    7/17   train_loss = 1.077\n",
      "Epoch  60 Batch    0/17   train_loss = 1.002\n",
      "Epoch  60 Batch   10/17   train_loss = 0.969\n",
      "Epoch  61 Batch    3/17   train_loss = 1.015\n",
      "Epoch  61 Batch   13/17   train_loss = 0.930\n",
      "Epoch  62 Batch    6/17   train_loss = 1.103\n",
      "Epoch  62 Batch   16/17   train_loss = 0.956\n",
      "Epoch  63 Batch    9/17   train_loss = 0.926\n",
      "Epoch  64 Batch    2/17   train_loss = 0.991\n",
      "Epoch  64 Batch   12/17   train_loss = 0.964\n",
      "Epoch  65 Batch    5/17   train_loss = 0.887\n",
      "Epoch  65 Batch   15/17   train_loss = 0.934\n",
      "Epoch  66 Batch    8/17   train_loss = 0.963\n",
      "Epoch  67 Batch    1/17   train_loss = 0.930\n",
      "Epoch  67 Batch   11/17   train_loss = 0.881\n",
      "Epoch  68 Batch    4/17   train_loss = 0.895\n",
      "Epoch  68 Batch   14/17   train_loss = 0.830\n",
      "Epoch  69 Batch    7/17   train_loss = 0.931\n",
      "Epoch  70 Batch    0/17   train_loss = 0.859\n",
      "Epoch  70 Batch   10/17   train_loss = 0.842\n",
      "Epoch  71 Batch    3/17   train_loss = 0.893\n",
      "Epoch  71 Batch   13/17   train_loss = 0.799\n",
      "Epoch  72 Batch    6/17   train_loss = 0.981\n",
      "Epoch  72 Batch   16/17   train_loss = 0.836\n",
      "Epoch  73 Batch    9/17   train_loss = 0.824\n",
      "Epoch  74 Batch    2/17   train_loss = 0.873\n",
      "Epoch  74 Batch   12/17   train_loss = 0.849\n",
      "Epoch  75 Batch    5/17   train_loss = 0.779\n",
      "Epoch  75 Batch   15/17   train_loss = 0.804\n",
      "Epoch  76 Batch    8/17   train_loss = 0.854\n",
      "Epoch  77 Batch    1/17   train_loss = 0.817\n",
      "Epoch  77 Batch   11/17   train_loss = 0.777\n",
      "Epoch  78 Batch    4/17   train_loss = 0.814\n",
      "Epoch  78 Batch   14/17   train_loss = 0.752\n",
      "Epoch  79 Batch    7/17   train_loss = 0.846\n",
      "Epoch  80 Batch    0/17   train_loss = 0.792\n",
      "Epoch  80 Batch   10/17   train_loss = 0.790\n",
      "Epoch  81 Batch    3/17   train_loss = 0.815\n",
      "Epoch  81 Batch   13/17   train_loss = 0.740\n",
      "Epoch  82 Batch    6/17   train_loss = 0.908\n",
      "Epoch  82 Batch   16/17   train_loss = 0.767\n",
      "Epoch  83 Batch    9/17   train_loss = 0.756\n",
      "Epoch  84 Batch    2/17   train_loss = 0.807\n",
      "Epoch  84 Batch   12/17   train_loss = 0.780\n",
      "Epoch  85 Batch    5/17   train_loss = 0.714\n",
      "Epoch  85 Batch   15/17   train_loss = 0.732\n",
      "Epoch  86 Batch    8/17   train_loss = 0.774\n",
      "Epoch  87 Batch    1/17   train_loss = 0.742\n",
      "Epoch  87 Batch   11/17   train_loss = 0.708\n",
      "Epoch  88 Batch    4/17   train_loss = 0.745\n",
      "Epoch  88 Batch   14/17   train_loss = 0.662\n",
      "Epoch  89 Batch    7/17   train_loss = 0.769\n",
      "Epoch  90 Batch    0/17   train_loss = 0.697\n",
      "Epoch  90 Batch   10/17   train_loss = 0.705\n",
      "Epoch  91 Batch    3/17   train_loss = 0.741\n",
      "Epoch  91 Batch   13/17   train_loss = 0.677\n",
      "Epoch  92 Batch    6/17   train_loss = 0.844\n",
      "Epoch  92 Batch   16/17   train_loss = 0.714\n",
      "Epoch  93 Batch    9/17   train_loss = 0.722\n",
      "Epoch  94 Batch    2/17   train_loss = 0.777\n",
      "Epoch  94 Batch   12/17   train_loss = 0.748\n",
      "Epoch  95 Batch    5/17   train_loss = 0.683\n",
      "Epoch  95 Batch   15/17   train_loss = 0.690\n",
      "Epoch  96 Batch    8/17   train_loss = 0.757\n",
      "Epoch  97 Batch    1/17   train_loss = 0.709\n",
      "Epoch  97 Batch   11/17   train_loss = 0.706\n",
      "Epoch  98 Batch    4/17   train_loss = 0.742\n",
      "Epoch  98 Batch   14/17   train_loss = 0.668\n",
      "Epoch  99 Batch    7/17   train_loss = 0.785\n",
      "Model Trained and Saved\n"
     ]
    }
   ],
   "source": [
    "\"\"\"\n",
    "DON'T MODIFY ANYTHING IN THIS CELL\n",
    "\"\"\"\n",
    "batches = get_batches(int_text, batch_size, seq_length)\n",
    "\n",
    "with tf.Session(graph=train_graph) as sess:\n",
    "    sess.run(tf.global_variables_initializer())\n",
    "\n",
    "    for epoch_i in range(num_epochs):\n",
    "        state = sess.run(initial_state, {input_text: batches[0][0]})\n",
    "\n",
    "        for batch_i, (x, y) in enumerate(batches):\n",
    "            feed = {\n",
    "                input_text: x,\n",
    "                targets: y,\n",
    "                initial_state: state,\n",
    "                lr: learning_rate}\n",
    "            train_loss, state, _ = sess.run([cost, final_state, train_op], feed)\n",
    "\n",
    "            # Show every <show_every_n_batches> batches\n",
    "            if (epoch_i * len(batches) + batch_i) % show_every_n_batches == 0:\n",
    "                print('Epoch {:>3} Batch {:>4}/{}   train_loss = {:.3f}'.format(\n",
    "                    epoch_i,\n",
    "                    batch_i,\n",
    "                    len(batches),\n",
    "                    train_loss))\n",
    "\n",
    "    # Save Model\n",
    "    saver = tf.train.Saver()\n",
    "    saver.save(sess, save_dir)\n",
    "    print('Model Trained and Saved')"
   ]
  },
  {
   "cell_type": "markdown",
   "metadata": {
    "deletable": true,
    "editable": true
   },
   "source": [
    "## Save Parameters\n",
    "Save `seq_length` and `save_dir` for generating a new TV script."
   ]
  },
  {
   "cell_type": "code",
   "execution_count": 85,
   "metadata": {
    "collapsed": false,
    "deletable": true,
    "editable": true
   },
   "outputs": [],
   "source": [
    "\"\"\"\n",
    "DON'T MODIFY ANYTHING IN THIS CELL\n",
    "\"\"\"\n",
    "# Save parameters for checkpoint\n",
    "helper.save_params((seq_length, save_dir))"
   ]
  },
  {
   "cell_type": "markdown",
   "metadata": {
    "deletable": true,
    "editable": true
   },
   "source": [
    "# Checkpoint"
   ]
  },
  {
   "cell_type": "code",
   "execution_count": 86,
   "metadata": {
    "collapsed": false,
    "deletable": true,
    "editable": true
   },
   "outputs": [],
   "source": [
    "\"\"\"\n",
    "DON'T MODIFY ANYTHING IN THIS CELL\n",
    "\"\"\"\n",
    "import tensorflow as tf\n",
    "import numpy as np\n",
    "import helper\n",
    "import problem_unittests as tests\n",
    "\n",
    "_, vocab_to_int, int_to_vocab, token_dict = helper.load_preprocess()\n",
    "seq_length, load_dir = helper.load_params()"
   ]
  },
  {
   "cell_type": "markdown",
   "metadata": {
    "deletable": true,
    "editable": true
   },
   "source": [
    "## Implement Generate Functions\n",
    "### Get Tensors\n",
    "Get tensors from `loaded_graph` using the function [`get_tensor_by_name()`](https://www.tensorflow.org/api_docs/python/tf/Graph#get_tensor_by_name).  Get the tensors using the following names:\n",
    "- \"input:0\"\n",
    "- \"initial_state:0\"\n",
    "- \"final_state:0\"\n",
    "- \"probs:0\"\n",
    "\n",
    "Return the tensors in the following tuple `(InputTensor, InitialStateTensor, FinalStateTensor, ProbsTensor)` "
   ]
  },
  {
   "cell_type": "code",
   "execution_count": 87,
   "metadata": {
    "collapsed": false,
    "deletable": true,
    "editable": true
   },
   "outputs": [
    {
     "name": "stdout",
     "output_type": "stream",
     "text": [
      "Tests Passed\n"
     ]
    }
   ],
   "source": [
    "def get_tensors(loaded_graph):\n",
    "    \"\"\"\n",
    "    Get input, initial state, final state, and probabilities tensor from <loaded_graph>\n",
    "    :param loaded_graph: TensorFlow graph loaded from file\n",
    "    :return: Tuple (InputTensor, InitialStateTensor, FinalStateTensor, ProbsTensor)\n",
    "    \"\"\"\n",
    "    # TODO: Implement Function\n",
    "    input_tensor=loaded_graph.get_tensor_by_name(\"input:0\")\n",
    "    initial_state_tensor=loaded_graph.get_tensor_by_name(\"initial_state:0\")\n",
    "    final_state_tensor=loaded_graph.get_tensor_by_name(\"final_state:0\")\n",
    "    probs_tensor=loaded_graph.get_tensor_by_name(\"probs:0\")\n",
    "    \n",
    "    return input_tensor, initial_state_tensor, final_state_tensor, probs_tensor\n",
    "\n",
    "\n",
    "\"\"\"\n",
    "DON'T MODIFY ANYTHING IN THIS CELL THAT IS BELOW THIS LINE\n",
    "\"\"\"\n",
    "tests.test_get_tensors(get_tensors)"
   ]
  },
  {
   "cell_type": "markdown",
   "metadata": {
    "deletable": true,
    "editable": true
   },
   "source": [
    "### Choose Word\n",
    "Implement the `pick_word()` function to select the next word using `probabilities`."
   ]
  },
  {
   "cell_type": "code",
   "execution_count": 88,
   "metadata": {
    "collapsed": false,
    "deletable": true,
    "editable": true
   },
   "outputs": [
    {
     "name": "stdout",
     "output_type": "stream",
     "text": [
      "Tests Passed\n"
     ]
    }
   ],
   "source": [
    "def pick_word(probabilities, int_to_vocab):\n",
    "    \"\"\"\n",
    "    Pick the next word in the generated text\n",
    "    :param probabilities: Probabilites of the next word\n",
    "    :param int_to_vocab: Dictionary of word ids as the keys and words as the values\n",
    "    :return: String of the predicted word\n",
    "    \"\"\"\n",
    "    # TODO: Implement Function\n",
    "    max_id=np.argmax(probabilities)\n",
    "    return int_to_vocab[max_id]\n",
    "\n",
    "\n",
    "\"\"\"\n",
    "DON'T MODIFY ANYTHING IN THIS CELL THAT IS BELOW THIS LINE\n",
    "\"\"\"\n",
    "tests.test_pick_word(pick_word)"
   ]
  },
  {
   "cell_type": "markdown",
   "metadata": {
    "deletable": true,
    "editable": true
   },
   "source": [
    "## Generate TV Script\n",
    "This will generate the TV script for you.  Set `gen_length` to the length of TV script you want to generate."
   ]
  },
  {
   "cell_type": "code",
   "execution_count": 91,
   "metadata": {
    "collapsed": false,
    "deletable": true,
    "editable": true,
    "scrolled": true
   },
   "outputs": [
    {
     "name": "stdout",
     "output_type": "stream",
     "text": [
      "moe_szyslak:(tries tap) nothin'.\n",
      "moe_szyslak:(sings) this is before you wish i was too high. / first one?\n",
      "barney_gumble: hey moe, it is...\n",
      "moe_szyslak:(surprised noise) i can't wait out with the mayor everybody like me!(mad) is this president here?\n",
      "moe_szyslak:(pleased) hey, how 'bout up the back the thing i look at you and come up.(points to items)\n",
      "homer_simpson: and the\" flaming moe\".\n",
      "moe_szyslak: hey, homer, you get your right...\n",
      "moe_szyslak:(distraught) ah, this is about the game?\n",
      "\n",
      "\n",
      "moe_szyslak:(gently) what?\n",
      "moe_szyslak:(serious, homer) you could be back?\n",
      "moe_szyslak:(horrified) yeah.\n",
      "moe_szyslak:(delighted) well, but i love you.\n",
      "moe_szyslak: don't worry, my ma's...\n",
      "moe_szyslak: well, this pepper got!\n",
      "moe_szyslak: ah, i gotta take that hot with you.\n",
      "moe_szyslak: hey, wait, you know\n"
     ]
    }
   ],
   "source": [
    "gen_length = 200\n",
    "# homer_simpson, moe_szyslak, or Barney_Gumble\n",
    "prime_word = 'moe_szyslak'\n",
    "\n",
    "\"\"\"\n",
    "DON'T MODIFY ANYTHING IN THIS CELL THAT IS BELOW THIS LINE\n",
    "\"\"\"\n",
    "loaded_graph = tf.Graph()\n",
    "with tf.Session(graph=loaded_graph) as sess:\n",
    "    # Load saved model\n",
    "    loader = tf.train.import_meta_graph(load_dir + '.meta')\n",
    "    loader.restore(sess, load_dir)\n",
    "\n",
    "    # Get Tensors from loaded model\n",
    "    input_text, initial_state, final_state, probs = get_tensors(loaded_graph)\n",
    "\n",
    "    # Sentences generation setup\n",
    "    gen_sentences = [prime_word + ':']\n",
    "    prev_state = sess.run(initial_state, {input_text: np.array([[1]])})\n",
    "\n",
    "    # Generate sentences\n",
    "    for n in range(gen_length):\n",
    "        # Dynamic Input\n",
    "        dyn_input = [[vocab_to_int[word] for word in gen_sentences[-seq_length:]]]\n",
    "        dyn_seq_length = len(dyn_input[0])\n",
    "\n",
    "        # Get Prediction\n",
    "        probabilities, prev_state = sess.run(\n",
    "            [probs, final_state],\n",
    "            {input_text: dyn_input, initial_state: prev_state})\n",
    "        \n",
    "        pred_word = pick_word(probabilities[dyn_seq_length-1], int_to_vocab)\n",
    "\n",
    "        gen_sentences.append(pred_word)\n",
    "    \n",
    "    # Remove tokens\n",
    "    tv_script = ' '.join(gen_sentences)\n",
    "    for key, token in token_dict.items():\n",
    "        ending = ' ' if key in ['\\n', '(', '\"'] else ''\n",
    "        tv_script = tv_script.replace(' ' + token.lower(), key)\n",
    "    tv_script = tv_script.replace('\\n ', '\\n')\n",
    "    tv_script = tv_script.replace('( ', '(')\n",
    "        \n",
    "    print(tv_script)"
   ]
  },
  {
   "cell_type": "markdown",
   "metadata": {
    "deletable": true,
    "editable": true
   },
   "source": [
    "# The TV Script is Nonsensical\n",
    "It's ok if the TV script doesn't make any sense.  We trained on less than a megabyte of text.  In order to get good results, you'll have to use a smaller vocabulary or get more data.  Luckly there's more data!  As we mentioned in the begging of this project, this is a subset of [another dataset](https://www.kaggle.com/wcukierski/the-simpsons-by-the-data).  We didn't have you train on all the data, because that would take too long.  However, you are free to train your neural network on all the data.  After you complete the project, of course.\n",
    "# Submitting This Project\n",
    "When submitting this project, make sure to run all the cells before saving the notebook. Save the notebook file as \"dlnd_tv_script_generation.ipynb\" and save it as a HTML file under \"File\" -> \"Download as\". Include the \"helper.py\" and \"problem_unittests.py\" files in your submission."
   ]
  },
  {
   "cell_type": "code",
   "execution_count": null,
   "metadata": {
    "collapsed": true
   },
   "outputs": [],
   "source": []
  }
 ],
 "metadata": {
  "kernelspec": {
   "display_name": "Python 3",
   "language": "python",
   "name": "python3"
  },
  "language_info": {
   "codemirror_mode": {
    "name": "ipython",
    "version": 3
   },
   "file_extension": ".py",
   "mimetype": "text/x-python",
   "name": "python",
   "nbconvert_exporter": "python",
   "pygments_lexer": "ipython3",
   "version": "3.5.2"
  },
  "widgets": {
   "state": {},
   "version": "1.1.2"
  }
 },
 "nbformat": 4,
 "nbformat_minor": 0
}
