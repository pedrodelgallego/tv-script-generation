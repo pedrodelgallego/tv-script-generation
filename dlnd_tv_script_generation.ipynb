{
 "cells": [
  {
   "cell_type": "markdown",
   "metadata": {
    "deletable": true,
    "editable": true
   },
   "source": [
    "# TV Script Generation\n",
    "In this project, you'll generate your own [Simpsons](https://en.wikipedia.org/wiki/The_Simpsons) TV scripts using RNNs.  You'll be using part of the [Simpsons dataset](https://www.kaggle.com/wcukierski/the-simpsons-by-the-data) of scripts from 27 seasons.  The Neural Network you'll build will generate a new TV script for a scene at [Moe's Tavern](https://simpsonswiki.com/wiki/Moe's_Tavern).\n",
    "## Get the Data\n",
    "The data is already provided for you.  You'll be using a subset of the original dataset.  It consists of only the scenes in Moe's Tavern.  This doesn't include other versions of the tavern, like \"Moe's Cavern\", \"Flaming Moe's\", \"Uncle Moe's Family Feed-Bag\", etc.."
   ]
  },
  {
   "cell_type": "code",
   "execution_count": 2,
   "metadata": {
    "collapsed": false,
    "deletable": true,
    "editable": true
   },
   "outputs": [],
   "source": [
    "\"\"\"\n",
    "DON'T MODIFY ANYTHING IN THIS CELL\n",
    "\"\"\"\n",
    "import helper\n",
    "\n",
    "data_dir = './data/simpsons/moes_tavern_lines.txt'\n",
    "text = helper.load_data(data_dir)\n",
    "# Ignore notice, since we don't use it for analysing the data\n",
    "text = text[81:]"
   ]
  },
  {
   "cell_type": "code",
   "execution_count": 3,
   "metadata": {
    "collapsed": false
   },
   "outputs": [
    {
     "data": {
      "text/plain": [
       "['e_Szyslak:',\n",
       " '(INTO',\n",
       " 'PHONE)',\n",
       " \"Moe's\",\n",
       " 'Tavern.',\n",
       " 'Where',\n",
       " 'the',\n",
       " 'elite',\n",
       " 'meet',\n",
       " 'to',\n",
       " 'drink.',\n",
       " 'Bart_Simpson:',\n",
       " 'Eh,',\n",
       " 'yeah,',\n",
       " 'hello,']"
      ]
     },
     "execution_count": 3,
     "metadata": {},
     "output_type": "execute_result"
    }
   ],
   "source": [
    "text[:100].split()"
   ]
  },
  {
   "cell_type": "markdown",
   "metadata": {
    "deletable": true,
    "editable": true
   },
   "source": [
    "## Explore the Data\n",
    "Play around with `view_sentence_range` to view different parts of the data."
   ]
  },
  {
   "cell_type": "code",
   "execution_count": 2,
   "metadata": {
    "collapsed": false,
    "deletable": true,
    "editable": true
   },
   "outputs": [
    {
     "name": "stdout",
     "output_type": "stream",
     "text": [
      "Dataset Stats\n",
      "Roughly the number of unique words: 11490\n",
      "Number of scenes: 262\n",
      "Average number of sentences in each scene: 15.251908396946565\n",
      "Number of lines: 4258\n",
      "Average number of words in each line: 11.50164396430249\n",
      "\n",
      "The sentences 10 to 20:\n",
      "Moe_Szyslak: Ah, isn't that nice. Now, there is a politician who cares.\n",
      "Barney_Gumble: If I ever vote, it'll be for him. (BELCH)\n",
      "\n",
      "\n",
      "Barney_Gumble: Hey Homer, how's your neighbor's store doing?\n",
      "Homer_Simpson: Lousy. He just sits there all day. He'd have a great job if he didn't own the place. (CHUCKLES)\n",
      "Moe_Szyslak: (STRUGGLING WITH CORKSCREW) Crummy right-handed corkscrews! What does he sell?\n",
      "Homer_Simpson: Uh, well actually, Moe...\n",
      "HOMER_(CONT'D: I dunno.\n",
      "\n"
     ]
    }
   ],
   "source": [
    "view_sentence_range = (10, 20)\n",
    "\n",
    "\"\"\"\n",
    "DON'T MODIFY ANYTHING IN THIS CELL\n",
    "\"\"\"\n",
    "import numpy as np\n",
    "\n",
    "print('Dataset Stats')\n",
    "print('Roughly the number of unique words: {}'.format(len({word: None for word in text.split()})))\n",
    "scenes = text.split('\\n\\n')\n",
    "print('Number of scenes: {}'.format(len(scenes)))\n",
    "sentence_count_scene = [scene.count('\\n') for scene in scenes]\n",
    "print('Average number of sentences in each scene: {}'.format(np.average(sentence_count_scene)))\n",
    "\n",
    "sentences = [sentence for scene in scenes for sentence in scene.split('\\n')]\n",
    "print('Number of lines: {}'.format(len(sentences)))\n",
    "word_count_sentence = [len(sentence.split()) for sentence in sentences]\n",
    "print('Average number of words in each line: {}'.format(np.average(word_count_sentence)))\n",
    "\n",
    "print()\n",
    "print('The sentences {} to {}:'.format(*view_sentence_range))\n",
    "print('\\n'.join(text.split('\\n')[view_sentence_range[0]:view_sentence_range[1]]))"
   ]
  },
  {
   "cell_type": "markdown",
   "metadata": {
    "deletable": true,
    "editable": true
   },
   "source": [
    "## Implement Preprocessing Functions\n",
    "The first thing to do to any dataset is preprocessing.  Implement the following preprocessing functions below:\n",
    "- Lookup Table\n",
    "- Tokenize Punctuation\n",
    "\n",
    "### Lookup Table\n",
    "To create a word embedding, you first need to transform the words to ids.  In this function, create two dictionaries:\n",
    "- Dictionary to go from the words to an id, we'll call `vocab_to_int`\n",
    "- Dictionary to go from the id to word, we'll call `int_to_vocab`\n",
    "\n",
    "Return these dictionaries in the following tuple `(vocab_to_int, int_to_vocab)`"
   ]
  },
  {
   "cell_type": "code",
   "execution_count": 6,
   "metadata": {
    "collapsed": false,
    "deletable": true,
    "editable": true
   },
   "outputs": [
    {
     "name": "stdout",
     "output_type": "stream",
     "text": [
      "Tests Passed\n"
     ]
    }
   ],
   "source": [
    "import numpy as np\n",
    "import problem_unittests as tests\n",
    "\n",
    "from collections import Counter\n",
    "\n",
    "def create_lookup_tables(text):\n",
    "    \"\"\"\n",
    "    Create lookup tables for vocabulary\n",
    "    :param text: The text of tv scripts split into words\n",
    "    :return: A tuple of dicts (vocab_to_int, int_to_vocab)\n",
    "    \"\"\"\n",
    "    counts = Counter(text)\n",
    "    vocab = sorted(counts, key=counts.get, reverse=True)\n",
    "    vocab_to_int = {word: ii for ii, word in enumerate(vocab)}\n",
    "    int_to_vocab = {v:k for k, v in vocab_to_int.items()}\n",
    "    return (vocab_to_int, int_to_vocab)\n",
    "\n",
    "\n",
    "\"\"\"\n",
    "DON'T MODIFY ANYTHING IN THIS CELL THAT IS BELOW THIS LINE\n",
    "\"\"\"\n",
    "tests.test_create_lookup_tables(create_lookup_tables)"
   ]
  },
  {
   "cell_type": "markdown",
   "metadata": {
    "deletable": true,
    "editable": true
   },
   "source": [
    "### Tokenize Punctuation\n",
    "We'll be splitting the script into a word array using spaces as delimiters.  However, punctuations like periods and exclamation marks make it hard for the neural network to distinguish between the word \"bye\" and \"bye!\".\n",
    "\n",
    "Implement the function `token_lookup` to return a dict that will be used to tokenize symbols like \"!\" into \"||Exclamation_Mark||\".  Create a dictionary for the following symbols where the symbol is the key and value is the token:\n",
    "- Period ( . )\n",
    "- Comma ( , )\n",
    "- Quotation Mark ( \" )\n",
    "- Semicolon ( ; )\n",
    "- Exclamation mark ( ! )\n",
    "- Question mark ( ? )\n",
    "- Left Parentheses ( ( )\n",
    "- Right Parentheses ( ) )\n",
    "- Dash ( -- )\n",
    "- Return ( \\n )\n",
    "\n",
    "This dictionary will be used to token the symbols and add the delimiter (space) around it.  This separates the symbols as it's own word, making it easier for the neural network to predict on the next word. Make sure you don't use a token that could be confused as a word. Instead of using the token \"dash\", try using something like \"||dash||\"."
   ]
  },
  {
   "cell_type": "code",
   "execution_count": 9,
   "metadata": {
    "collapsed": false,
    "deletable": true,
    "editable": true
   },
   "outputs": [
    {
     "name": "stdout",
     "output_type": "stream",
     "text": [
      "Tests Passed\n"
     ]
    }
   ],
   "source": [
    "def token_lookup():\n",
    "    \"\"\"\n",
    "    Generate a dict to turn punctuation into a token.\n",
    "    :return: Tokenize dictionary where the key is the punctuation and the value is the token\n",
    "    \"\"\"\n",
    "    return {\n",
    "        '--':'||dash||',\n",
    "        ',': '||comma||',\n",
    "        '.': '||period||',\n",
    "        '(': '||left_paren||',\n",
    "        ')': '||right_paren||',\n",
    "        ';': '||semicolon||',\n",
    "        '?': '||question||',\n",
    "        '\\n': '||return||',\n",
    "        '\"': '||double_quote||',\n",
    "        '!': '||exclamation||',\n",
    "    }\n",
    "\n",
    "\"\"\"\n",
    "DON'T MODIFY ANYTHING IN THIS CELL THAT IS BELOW THIS LINE\n",
    "\"\"\"\n",
    "tests.test_tokenize(token_lookup)"
   ]
  },
  {
   "cell_type": "markdown",
   "metadata": {
    "deletable": true,
    "editable": true
   },
   "source": [
    "## Preprocess all the data and save it\n",
    "Running the code cell below will preprocess all the data and save it to file."
   ]
  },
  {
   "cell_type": "code",
   "execution_count": 10,
   "metadata": {
    "collapsed": false,
    "deletable": true,
    "editable": true
   },
   "outputs": [],
   "source": [
    "\"\"\"\n",
    "DON'T MODIFY ANYTHING IN THIS CELL\n",
    "\"\"\"\n",
    "# Preprocess Training, Validation, and Testing Data\n",
    "helper.preprocess_and_save_data(data_dir, token_lookup, create_lookup_tables)"
   ]
  },
  {
   "cell_type": "markdown",
   "metadata": {
    "deletable": true,
    "editable": true
   },
   "source": [
    "# Check Point\n",
    "This is your first checkpoint. If you ever decide to come back to this notebook or have to restart the notebook, you can start from here. The preprocessed data has been saved to disk."
   ]
  },
  {
   "cell_type": "code",
   "execution_count": 11,
   "metadata": {
    "collapsed": false,
    "deletable": true,
    "editable": true
   },
   "outputs": [],
   "source": [
    "\"\"\"\n",
    "DON'T MODIFY ANYTHING IN THIS CELL\n",
    "\"\"\"\n",
    "import helper\n",
    "import numpy as np\n",
    "import problem_unittests as tests\n",
    "\n",
    "int_text, vocab_to_int, int_to_vocab, token_dict = helper.load_preprocess()"
   ]
  },
  {
   "cell_type": "markdown",
   "metadata": {
    "deletable": true,
    "editable": true
   },
   "source": [
    "## Build the Neural Network\n",
    "You'll build the components necessary to build a RNN by implementing the following functions below:\n",
    "- get_inputs\n",
    "- get_init_cell\n",
    "- get_embed\n",
    "- build_rnn\n",
    "- build_nn\n",
    "- get_batches\n",
    "\n",
    "### Check the Version of TensorFlow and Access to GPU"
   ]
  },
  {
   "cell_type": "code",
   "execution_count": 12,
   "metadata": {
    "collapsed": false,
    "deletable": true,
    "editable": true
   },
   "outputs": [
    {
     "name": "stdout",
     "output_type": "stream",
     "text": [
      "TensorFlow Version: 1.0.0\n",
      "Default GPU Device: /gpu:0\n"
     ]
    }
   ],
   "source": [
    "\"\"\"\n",
    "DON'T MODIFY ANYTHING IN THIS CELL\n",
    "\"\"\"\n",
    "from distutils.version import LooseVersion\n",
    "import warnings\n",
    "import tensorflow as tf\n",
    "\n",
    "# Check TensorFlow Version\n",
    "assert LooseVersion(tf.__version__) >= LooseVersion('1.0'), 'Please use TensorFlow version 1.0 or newer'\n",
    "print('TensorFlow Version: {}'.format(tf.__version__))\n",
    "\n",
    "# Check for a GPU\n",
    "if not tf.test.gpu_device_name():\n",
    "    warnings.warn('No GPU found. Please use a GPU to train your neural network.')\n",
    "else:\n",
    "    print('Default GPU Device: {}'.format(tf.test.gpu_device_name()))"
   ]
  },
  {
   "cell_type": "markdown",
   "metadata": {
    "deletable": true,
    "editable": true
   },
   "source": [
    "### Input\n",
    "Implement the `get_inputs()` function to create TF Placeholders for the Neural Network.  It should create the following placeholders:\n",
    "- Input text placeholder named \"input\" using the [TF Placeholder](https://www.tensorflow.org/api_docs/python/tf/placeholder) `name` parameter.\n",
    "- Targets placeholder\n",
    "- Learning Rate placeholder\n",
    "\n",
    "Return the placeholders in the following the tuple `(Input, Targets, LearingRate)`"
   ]
  },
  {
   "cell_type": "code",
   "execution_count": 17,
   "metadata": {
    "collapsed": false,
    "deletable": true,
    "editable": true
   },
   "outputs": [
    {
     "name": "stdout",
     "output_type": "stream",
     "text": [
      "Tests Passed\n"
     ]
    }
   ],
   "source": [
    "def get_inputs():\n",
    "    \"\"\"\n",
    "    Create TF Placeholders for input, targets, and learning rate.\n",
    "    :return: Tuple (input, targets, learning rate)\n",
    "    \"\"\"\n",
    "    inputs = tf.placeholder(tf.int32,(None,None),name=\"input\")\n",
    "    targets = tf.placeholder(tf.int32,(None,None),name=\"targets\")\n",
    "    learning_rate = tf.placeholder(tf.float32,name=\"learning_rate\")\n",
    "    return (inputs, targets, learning_rate)\n",
    "\n",
    "\n",
    "\"\"\"\n",
    "DON'T MODIFY ANYTHING IN THIS CELL THAT IS BELOW THIS LINE\n",
    "\"\"\"\n",
    "tests.test_get_inputs(get_inputs)"
   ]
  },
  {
   "cell_type": "markdown",
   "metadata": {
    "deletable": true,
    "editable": true
   },
   "source": [
    "### Build RNN Cell and Initialize\n",
    "Stack one or more [`BasicLSTMCells`](https://www.tensorflow.org/api_docs/python/tf/contrib/rnn/BasicLSTMCell) in a [`MultiRNNCell`](https://www.tensorflow.org/api_docs/python/tf/contrib/rnn/MultiRNNCell).\n",
    "- The Rnn size should be set using `rnn_size`\n",
    "- Initalize Cell State using the MultiRNNCell's [`zero_state()`](https://www.tensorflow.org/api_docs/python/tf/contrib/rnn/MultiRNNCell#zero_state) function\n",
    "    - Apply the name \"initial_state\" to the initial state using [`tf.identity()`](https://www.tensorflow.org/api_docs/python/tf/identity)\n",
    "\n",
    "Return the cell and initial state in the following tuple `(Cell, InitialState)`"
   ]
  },
  {
   "cell_type": "code",
   "execution_count": 18,
   "metadata": {
    "collapsed": false,
    "deletable": true,
    "editable": true
   },
   "outputs": [
    {
     "name": "stdout",
     "output_type": "stream",
     "text": [
      "Tests Passed\n"
     ]
    }
   ],
   "source": [
    "from tensorflow.contrib.rnn import DropoutWrapper, BasicLSTMCell, MultiRNNCell, GRUCell\n",
    "\n",
    "def get_init_cell(batch_size, rnn_size):\n",
    "    \"\"\"\n",
    "    Create an RNN Cell and initialize it.\n",
    "    :param batch_size: Size of batches\n",
    "    :param rnn_size: Size of RNNs\n",
    "    :return: Tuple (cell, initialize state)\n",
    "    \"\"\"\n",
    "    n_layers = 1\n",
    "\n",
    "    # lstm_cell = BasicLSTMCell(rnn_size)\n",
    "    gru_cell = GRUCell(num_units = rnn_size)\n",
    "    \n",
    "    # this doesn't work\n",
    "    # keep_prob = 0.5\n",
    "    # cell_drop = DropoutWrapper(lstm_cell, input_keep_prob=keep_prob)\n",
    "\n",
    "    cell = MultiRNNCell([gru_cell] * n_layers)\n",
    "    initial_state = cell.zero_state(batch_size, tf.float32)\n",
    "    initial_state = tf.identity(initial_state,name=\"initial_state\")\n",
    "    return (cell, initial_state)\n",
    "\n",
    "\n",
    "\"\"\"\n",
    "DON'T MODIFY ANYTHING IN THIS CELL THAT IS BELOW THIS LINE\n",
    "\"\"\"\n",
    "tests.test_get_init_cell(get_init_cell)"
   ]
  },
  {
   "cell_type": "markdown",
   "metadata": {
    "deletable": true,
    "editable": true
   },
   "source": [
    "### Word Embedding\n",
    "Apply embedding to `input_data` using TensorFlow.  Return the embedded sequence."
   ]
  },
  {
   "cell_type": "code",
   "execution_count": 19,
   "metadata": {
    "collapsed": false,
    "deletable": true,
    "editable": true
   },
   "outputs": [
    {
     "name": "stdout",
     "output_type": "stream",
     "text": [
      "Tests Passed\n"
     ]
    }
   ],
   "source": [
    "from tensorflow import Variable\n",
    "\n",
    "def get_embed(input_data, vocab_size, embed_dim):\n",
    "    \"\"\"\n",
    "    Create embedding for <input_data>.\n",
    "    :param input_data: TF placeholder for text input.\n",
    "    :param vocab_size: Number of words in vocabulary.\n",
    "    :param embed_dim: Number of embedding dimensions\n",
    "    :return: Embedded input.\n",
    "    \"\"\"\n",
    "    embeddings = Variable(tf.random_uniform((vocab_size, embed_dim), -1, 1))\n",
    "    return tf.nn.embedding_lookup(embeddings, input_data)\n",
    "\n",
    "\n",
    "\"\"\"\n",
    "DON'T MODIFY ANYTHING IN THIS CELL THAT IS BELOW THIS LINE\n",
    "\"\"\"\n",
    "tests.test_get_embed(get_embed)"
   ]
  },
  {
   "cell_type": "markdown",
   "metadata": {
    "deletable": true,
    "editable": true
   },
   "source": [
    "### Build RNN\n",
    "You created a RNN Cell in the `get_init_cell()` function.  Time to use the cell to create a RNN.\n",
    "- Build the RNN using the [`tf.nn.dynamic_rnn()`](https://www.tensorflow.org/api_docs/python/tf/nn/dynamic_rnn)\n",
    " - Apply the name \"final_state\" to the final state using [`tf.identity()`](https://www.tensorflow.org/api_docs/python/tf/identity)\n",
    "\n",
    "Return the outputs and final_state state in the following tuple `(Outputs, FinalState)` "
   ]
  },
  {
   "cell_type": "code",
   "execution_count": 20,
   "metadata": {
    "collapsed": false,
    "deletable": true,
    "editable": true
   },
   "outputs": [
    {
     "name": "stdout",
     "output_type": "stream",
     "text": [
      "Tests Passed\n"
     ]
    }
   ],
   "source": [
    "# The dynamic_rnn() function uses a while_loop() operation to run over the cell the appropriate number of times. \n",
    "# Conveniently, it also accepts a single tensor for all inputs at every time step (shape [None, n_steps, n_inputs])\n",
    "# and it outputs a single tensor for all outputs at every time step (shape [None, n_steps, n_neurons]); \n",
    "#\n",
    "# The following code creates the same RNN as earlier using the dynamic_rnn() function. \n",
    "\n",
    "def build_rnn(cell, inputs):\n",
    "    \"\"\"\n",
    "    Create a RNN using a RNN Cell\n",
    "    :param cell: RNN Cell\n",
    "    :param inputs: Input text data\n",
    "    :return: Tuple (Outputs, Final State)\n",
    "    \"\"\"\n",
    "    outputs, state = tf.nn.dynamic_rnn(cell, inputs,dtype=tf.float32)\n",
    "    final_state = tf.identity(state,\"final_state\")\n",
    "    return (outputs,  final_state)\n",
    "\n",
    "\n",
    "\"\"\"\n",
    "DON'T MODIFY ANYTHING IN THIS CELL THAT IS BELOW THIS LINE\n",
    "\"\"\"\n",
    "tests.test_build_rnn(build_rnn)"
   ]
  },
  {
   "cell_type": "markdown",
   "metadata": {
    "deletable": true,
    "editable": true
   },
   "source": [
    "### Build the Neural Network\n",
    "Apply the functions you implemented above to:\n",
    "- Apply embedding to `input_data` using your `get_embed(input_data, vocab_size, embed_dim)` function.\n",
    "- Build RNN using `cell` and your `build_rnn(cell, inputs)` function.\n",
    "- Apply a fully connected layer with a linear activation and `vocab_size` as the number of outputs.\n",
    "\n",
    "Return the logits and final state in the following tuple (Logits, FinalState) "
   ]
  },
  {
   "cell_type": "code",
   "execution_count": 21,
   "metadata": {
    "collapsed": false,
    "deletable": true,
    "editable": true
   },
   "outputs": [
    {
     "name": "stdout",
     "output_type": "stream",
     "text": [
      "Tests Passed\n"
     ]
    }
   ],
   "source": [
    "from tensorflow.contrib.layers import fully_connected\n",
    "\n",
    "\n",
    "def build_nn(cell, rnn_size, input_data, vocab_size):\n",
    "    \"\"\"\n",
    "    Build part of the neural network\n",
    "    :param cell: RNN cell\n",
    "    :param rnn_size: Size of rnns\n",
    "    :param input_data: Input data\n",
    "    :param vocab_size: Vocabulary size\n",
    "    :return: Tuple (Logits, FinalState)\n",
    "    \"\"\"\n",
    "    embed = get_embed(input_data, vocab_size, rnn_size)\n",
    "    rnn_output, final_state = build_rnn(cell, embed)\n",
    "    \n",
    "    logits = fully_connected(rnn_output, vocab_size, activation_fn=None) \n",
    "    \n",
    "    return (logits, final_state)\n",
    "\n",
    "\n",
    "\"\"\"\n",
    "DON'T MODIFY ANYTHING IN THIS CELL THAT IS BELOW THIS LINE\n",
    "\"\"\"\n",
    "tests.test_build_nn(build_nn)"
   ]
  },
  {
   "cell_type": "markdown",
   "metadata": {
    "deletable": true,
    "editable": true
   },
   "source": [
    "### Batches\n",
    "Implement `get_batches` to create batches of input and targets using `int_text`.  The batches should be a Numpy array with the shape `(number of batches, 2, batch size, sequence length)`. Each batch contains two elements:\n",
    "- The first element is a single batch of **input** with the shape `[batch size, sequence length]`\n",
    "- The second element is a single batch of **targets** with the shape `[batch size, sequence length]`\n",
    "\n",
    "If you can't fill the last batch with enough data, drop the last batch.\n",
    "\n",
    "For exmple, `get_batches([1, 2, 3, 4, 5, 6, 7, 8, 9, 10, 11, 12, 13, 14, 15], 2, 3)` would return a Numpy array of the following:\n",
    "```\n",
    "[\n",
    "  # First Batch\n",
    "  [\n",
    "    # Batch of Input\n",
    "    [[ 1  2  3], [ 7  8  9]],\n",
    "    # Batch of targets\n",
    "    [[ 2  3  4], [ 8  9 10]]\n",
    "  ],\n",
    " \n",
    "  # Second Batch\n",
    "  [\n",
    "    # Batch of Input\n",
    "    [[ 4  5  6], [10 11 12]],\n",
    "    # Batch of targets\n",
    "    [[ 5  6  7], [11 12 13]]\n",
    "  ]\n",
    "]\n",
    "```"
   ]
  },
  {
   "cell_type": "code",
   "execution_count": 22,
   "metadata": {
    "collapsed": false,
    "deletable": true,
    "editable": true
   },
   "outputs": [
    {
     "name": "stdout",
     "output_type": "stream",
     "text": [
      "Tests Passed\n"
     ]
    }
   ],
   "source": [
    "def get_batches(int_text, batch_size, seq_length):\n",
    "    \"\"\"\n",
    "    Return batches of input and target\n",
    "    :param int_text: Text with the words replaced by their ids\n",
    "    :param batch_size: The size of batch\n",
    "    :param seq_length: The length of sequence\n",
    "    :return: Batches as a Numpy array\n",
    "    \"\"\"\n",
    "    # TODO: Implement Function\n",
    "    batches=[]\n",
    "    n_batches = int(len(int_text) // (batch_size * seq_length))\n",
    "\n",
    "    int_text_x = np.array(int_text[:n_batches * (batch_size * seq_length)])\n",
    "    int_text_y = np.array(int_text[1:n_batches * (batch_size * seq_length) + 1])\n",
    "\n",
    "    x_batches = np.split(int_text_x, n_batches)\n",
    "    y_batches = np.split(int_text_y, n_batches)\n",
    "    for i in range(n_batches):\n",
    "        x=np.split(x_batches[i], batch_size)\n",
    "        y=np.split(y_batches[i], batch_size)\n",
    "        pairs=np.stack((x,y))\n",
    "        batches.append(pairs)\n",
    "\n",
    "    return np.array(batches)\n",
    "\n",
    "\n",
    "\"\"\"\n",
    "DON'T MODIFY ANYTHING IN THIS CELL THAT IS BELOW THIS LINE\n",
    "\"\"\"\n",
    "tests.test_get_batches(get_batches)"
   ]
  },
  {
   "cell_type": "markdown",
   "metadata": {
    "deletable": true,
    "editable": true
   },
   "source": [
    "## Neural Network Training\n",
    "### Hyperparameters\n",
    "Tune the following parameters:\n",
    "\n",
    "- Set `num_epochs` to the number of epochs.\n",
    "- Set `batch_size` to the batch size.\n",
    "- Set `rnn_size` to the size of the RNNs.\n",
    "- Set `seq_length` to the length of sequence.\n",
    "- Set `learning_rate` to the learning rate.\n",
    "- Set `show_every_n_batches` to the number of batches the neural network should print progress."
   ]
  },
  {
   "cell_type": "code",
   "execution_count": 23,
   "metadata": {
    "collapsed": true,
    "deletable": true,
    "editable": true
   },
   "outputs": [],
   "source": [
    "# Number of Epochs\n",
    "num_epochs = 100\n",
    "# Batch Size\n",
    "batch_size = 128\n",
    "# RNN Size\n",
    "rnn_size = 128\n",
    "# Sequence Length\n",
    "seq_length = 30\n",
    "# Learning Rate\n",
    "learning_rate = 0.01\n",
    "# Show stats for every n number of batches\n",
    "show_every_n_batches = 10\n",
    "\n",
    "\"\"\"\n",
    "DON'T MODIFY ANYTHING IN THIS CELL THAT IS BELOW THIS LINE\n",
    "\"\"\"\n",
    "save_dir = './save'"
   ]
  },
  {
   "cell_type": "markdown",
   "metadata": {
    "deletable": true,
    "editable": true
   },
   "source": [
    "### Build the Graph\n",
    "Build the graph using the neural network you implemented."
   ]
  },
  {
   "cell_type": "code",
   "execution_count": 24,
   "metadata": {
    "collapsed": false,
    "deletable": true,
    "editable": true
   },
   "outputs": [],
   "source": [
    "\"\"\"\n",
    "DON'T MODIFY ANYTHING IN THIS CELL\n",
    "\"\"\"\n",
    "from tensorflow.contrib import seq2seq\n",
    "\n",
    "train_graph = tf.Graph()\n",
    "with train_graph.as_default():\n",
    "    vocab_size = len(int_to_vocab)\n",
    "    input_text, targets, lr = get_inputs()\n",
    "    input_data_shape = tf.shape(input_text)\n",
    "    cell, initial_state = get_init_cell(input_data_shape[0], rnn_size)\n",
    "    logits, final_state = build_nn(cell, rnn_size, input_text, vocab_size)\n",
    "\n",
    "    # Probabilities for generating words\n",
    "    probs = tf.nn.softmax(logits, name='probs')\n",
    "\n",
    "    # Loss function\n",
    "    cost = seq2seq.sequence_loss(\n",
    "        logits,\n",
    "        targets,\n",
    "        tf.ones([input_data_shape[0], input_data_shape[1]]))\n",
    "\n",
    "    # Optimizer\n",
    "    optimizer = tf.train.AdamOptimizer(lr)\n",
    "\n",
    "    # Gradient Clipping\n",
    "    gradients = optimizer.compute_gradients(cost)\n",
    "    capped_gradients = [(tf.clip_by_value(grad, -1., 1.), var) for grad, var in gradients]\n",
    "    train_op = optimizer.apply_gradients(capped_gradients)"
   ]
  },
  {
   "cell_type": "markdown",
   "metadata": {
    "deletable": true,
    "editable": true
   },
   "source": [
    "## Train\n",
    "Train the neural network on the preprocessed data.  If you have a hard time getting a good loss, check the [forms](https://discussions.udacity.com/) to see if anyone is having the same problem."
   ]
  },
  {
   "cell_type": "code",
   "execution_count": 25,
   "metadata": {
    "collapsed": false,
    "deletable": true,
    "editable": true
   },
   "outputs": [
    {
     "name": "stdout",
     "output_type": "stream",
     "text": [
      "Epoch   0 Batch    0/17   train_loss = 8.822\n",
      "Epoch   0 Batch   10/17   train_loss = 6.597\n",
      "Epoch   1 Batch    3/17   train_loss = 5.886\n",
      "Epoch   1 Batch   13/17   train_loss = 5.848\n",
      "Epoch   2 Batch    6/17   train_loss = 5.304\n",
      "Epoch   2 Batch   16/17   train_loss = 5.378\n",
      "Epoch   3 Batch    9/17   train_loss = 5.109\n",
      "Epoch   4 Batch    2/17   train_loss = 4.790\n",
      "Epoch   4 Batch   12/17   train_loss = 4.776\n",
      "Epoch   5 Batch    5/17   train_loss = 4.539\n",
      "Epoch   5 Batch   15/17   train_loss = 4.446\n",
      "Epoch   6 Batch    8/17   train_loss = 4.215\n",
      "Epoch   7 Batch    1/17   train_loss = 4.041\n",
      "Epoch   7 Batch   11/17   train_loss = 4.007\n",
      "Epoch   8 Batch    4/17   train_loss = 3.839\n",
      "Epoch   8 Batch   14/17   train_loss = 3.721\n",
      "Epoch   9 Batch    7/17   train_loss = 3.571\n",
      "Epoch  10 Batch    0/17   train_loss = 3.416\n",
      "Epoch  10 Batch   10/17   train_loss = 3.349\n",
      "Epoch  11 Batch    3/17   train_loss = 3.233\n",
      "Epoch  11 Batch   13/17   train_loss = 3.227\n",
      "Epoch  12 Batch    6/17   train_loss = 3.063\n",
      "Epoch  12 Batch   16/17   train_loss = 2.981\n",
      "Epoch  13 Batch    9/17   train_loss = 2.941\n",
      "Epoch  14 Batch    2/17   train_loss = 2.861\n",
      "Epoch  14 Batch   12/17   train_loss = 2.798\n",
      "Epoch  15 Batch    5/17   train_loss = 2.632\n",
      "Epoch  15 Batch   15/17   train_loss = 2.700\n",
      "Epoch  16 Batch    8/17   train_loss = 2.626\n",
      "Epoch  17 Batch    1/17   train_loss = 2.506\n",
      "Epoch  17 Batch   11/17   train_loss = 2.498\n",
      "Epoch  18 Batch    4/17   train_loss = 2.460\n",
      "Epoch  18 Batch   14/17   train_loss = 2.353\n",
      "Epoch  19 Batch    7/17   train_loss = 2.420\n",
      "Epoch  20 Batch    0/17   train_loss = 2.292\n",
      "Epoch  20 Batch   10/17   train_loss = 2.255\n",
      "Epoch  21 Batch    3/17   train_loss = 2.245\n",
      "Epoch  21 Batch   13/17   train_loss = 2.183\n",
      "Epoch  22 Batch    6/17   train_loss = 2.213\n",
      "Epoch  22 Batch   16/17   train_loss = 2.112\n",
      "Epoch  23 Batch    9/17   train_loss = 2.104\n",
      "Epoch  24 Batch    2/17   train_loss = 2.128\n",
      "Epoch  24 Batch   12/17   train_loss = 2.035\n",
      "Epoch  25 Batch    5/17   train_loss = 1.915\n",
      "Epoch  25 Batch   15/17   train_loss = 1.962\n",
      "Epoch  26 Batch    8/17   train_loss = 1.960\n",
      "Epoch  27 Batch    1/17   train_loss = 1.885\n",
      "Epoch  27 Batch   11/17   train_loss = 1.880\n",
      "Epoch  28 Batch    4/17   train_loss = 1.876\n",
      "Epoch  28 Batch   14/17   train_loss = 1.818\n",
      "Epoch  29 Batch    7/17   train_loss = 1.912\n",
      "Epoch  30 Batch    0/17   train_loss = 1.840\n",
      "Epoch  30 Batch   10/17   train_loss = 1.813\n",
      "Epoch  31 Batch    3/17   train_loss = 1.813\n",
      "Epoch  31 Batch   13/17   train_loss = 1.721\n",
      "Epoch  32 Batch    6/17   train_loss = 1.793\n",
      "Epoch  32 Batch   16/17   train_loss = 1.652\n",
      "Epoch  33 Batch    9/17   train_loss = 1.631\n",
      "Epoch  34 Batch    2/17   train_loss = 1.645\n",
      "Epoch  34 Batch   12/17   train_loss = 1.592\n",
      "Epoch  35 Batch    5/17   train_loss = 1.459\n",
      "Epoch  35 Batch   15/17   train_loss = 1.532\n",
      "Epoch  36 Batch    8/17   train_loss = 1.503\n",
      "Epoch  37 Batch    1/17   train_loss = 1.464\n",
      "Epoch  37 Batch   11/17   train_loss = 1.414\n",
      "Epoch  38 Batch    4/17   train_loss = 1.422\n",
      "Epoch  38 Batch   14/17   train_loss = 1.340\n",
      "Epoch  39 Batch    7/17   train_loss = 1.454\n",
      "Epoch  40 Batch    0/17   train_loss = 1.364\n",
      "Epoch  40 Batch   10/17   train_loss = 1.310\n",
      "Epoch  41 Batch    3/17   train_loss = 1.373\n",
      "Epoch  41 Batch   13/17   train_loss = 1.276\n",
      "Epoch  42 Batch    6/17   train_loss = 1.394\n",
      "Epoch  42 Batch   16/17   train_loss = 1.302\n",
      "Epoch  43 Batch    9/17   train_loss = 1.300\n",
      "Epoch  44 Batch    2/17   train_loss = 1.318\n",
      "Epoch  44 Batch   12/17   train_loss = 1.308\n",
      "Epoch  45 Batch    5/17   train_loss = 1.190\n",
      "Epoch  45 Batch   15/17   train_loss = 1.261\n",
      "Epoch  46 Batch    8/17   train_loss = 1.254\n",
      "Epoch  47 Batch    1/17   train_loss = 1.214\n",
      "Epoch  47 Batch   11/17   train_loss = 1.170\n",
      "Epoch  48 Batch    4/17   train_loss = 1.212\n",
      "Epoch  48 Batch   14/17   train_loss = 1.097\n",
      "Epoch  49 Batch    7/17   train_loss = 1.245\n",
      "Epoch  50 Batch    0/17   train_loss = 1.186\n",
      "Epoch  50 Batch   10/17   train_loss = 1.149\n",
      "Epoch  51 Batch    3/17   train_loss = 1.217\n",
      "Epoch  51 Batch   13/17   train_loss = 1.112\n",
      "Epoch  52 Batch    6/17   train_loss = 1.275\n",
      "Epoch  52 Batch   16/17   train_loss = 1.167\n",
      "Epoch  53 Batch    9/17   train_loss = 1.178\n",
      "Epoch  54 Batch    2/17   train_loss = 1.214\n",
      "Epoch  54 Batch   12/17   train_loss = 1.206\n",
      "Epoch  55 Batch    5/17   train_loss = 1.092\n",
      "Epoch  55 Batch   15/17   train_loss = 1.125\n",
      "Epoch  56 Batch    8/17   train_loss = 1.128\n",
      "Epoch  57 Batch    1/17   train_loss = 1.090\n",
      "Epoch  57 Batch   11/17   train_loss = 1.030\n",
      "Epoch  58 Batch    4/17   train_loss = 1.082\n",
      "Epoch  58 Batch   14/17   train_loss = 0.970\n",
      "Epoch  59 Batch    7/17   train_loss = 1.085\n",
      "Epoch  60 Batch    0/17   train_loss = 1.000\n",
      "Epoch  60 Batch   10/17   train_loss = 0.948\n",
      "Epoch  61 Batch    3/17   train_loss = 1.004\n",
      "Epoch  61 Batch   13/17   train_loss = 0.919\n",
      "Epoch  62 Batch    6/17   train_loss = 1.045\n",
      "Epoch  62 Batch   16/17   train_loss = 0.951\n",
      "Epoch  63 Batch    9/17   train_loss = 0.931\n",
      "Epoch  64 Batch    2/17   train_loss = 0.989\n",
      "Epoch  64 Batch   12/17   train_loss = 0.947\n",
      "Epoch  65 Batch    5/17   train_loss = 0.861\n",
      "Epoch  65 Batch   15/17   train_loss = 0.890\n",
      "Epoch  66 Batch    8/17   train_loss = 0.911\n",
      "Epoch  67 Batch    1/17   train_loss = 0.912\n",
      "Epoch  67 Batch   11/17   train_loss = 0.837\n",
      "Epoch  68 Batch    4/17   train_loss = 0.887\n",
      "Epoch  68 Batch   14/17   train_loss = 0.796\n",
      "Epoch  69 Batch    7/17   train_loss = 0.913\n",
      "Epoch  70 Batch    0/17   train_loss = 0.836\n",
      "Epoch  70 Batch   10/17   train_loss = 0.819\n",
      "Epoch  71 Batch    3/17   train_loss = 0.864\n",
      "Epoch  71 Batch   13/17   train_loss = 0.779\n",
      "Epoch  72 Batch    6/17   train_loss = 0.907\n",
      "Epoch  72 Batch   16/17   train_loss = 0.832\n",
      "Epoch  73 Batch    9/17   train_loss = 0.818\n",
      "Epoch  74 Batch    2/17   train_loss = 0.866\n",
      "Epoch  74 Batch   12/17   train_loss = 0.832\n",
      "Epoch  75 Batch    5/17   train_loss = 0.756\n",
      "Epoch  75 Batch   15/17   train_loss = 0.789\n",
      "Epoch  76 Batch    8/17   train_loss = 0.802\n",
      "Epoch  77 Batch    1/17   train_loss = 0.798\n",
      "Epoch  77 Batch   11/17   train_loss = 0.740\n",
      "Epoch  78 Batch    4/17   train_loss = 0.804\n",
      "Epoch  78 Batch   14/17   train_loss = 0.730\n",
      "Epoch  79 Batch    7/17   train_loss = 0.846\n",
      "Epoch  80 Batch    0/17   train_loss = 0.770\n",
      "Epoch  80 Batch   10/17   train_loss = 0.755\n",
      "Epoch  81 Batch    3/17   train_loss = 0.810\n",
      "Epoch  81 Batch   13/17   train_loss = 0.723\n",
      "Epoch  82 Batch    6/17   train_loss = 0.866\n",
      "Epoch  82 Batch   16/17   train_loss = 0.805\n",
      "Epoch  83 Batch    9/17   train_loss = 0.785\n",
      "Epoch  84 Batch    2/17   train_loss = 0.864\n",
      "Epoch  84 Batch   12/17   train_loss = 0.811\n",
      "Epoch  85 Batch    5/17   train_loss = 0.738\n",
      "Epoch  85 Batch   15/17   train_loss = 0.779\n",
      "Epoch  86 Batch    8/17   train_loss = 0.806\n",
      "Epoch  87 Batch    1/17   train_loss = 0.784\n",
      "Epoch  87 Batch   11/17   train_loss = 0.737\n",
      "Epoch  88 Batch    4/17   train_loss = 0.772\n",
      "Epoch  88 Batch   14/17   train_loss = 0.681\n",
      "Epoch  89 Batch    7/17   train_loss = 0.792\n",
      "Epoch  90 Batch    0/17   train_loss = 0.703\n",
      "Epoch  90 Batch   10/17   train_loss = 0.697\n",
      "Epoch  91 Batch    3/17   train_loss = 0.740\n",
      "Epoch  91 Batch   13/17   train_loss = 0.652\n",
      "Epoch  92 Batch    6/17   train_loss = 0.763\n",
      "Epoch  92 Batch   16/17   train_loss = 0.702\n",
      "Epoch  93 Batch    9/17   train_loss = 0.683\n",
      "Epoch  94 Batch    2/17   train_loss = 0.718\n",
      "Epoch  94 Batch   12/17   train_loss = 0.679\n",
      "Epoch  95 Batch    5/17   train_loss = 0.635\n",
      "Epoch  95 Batch   15/17   train_loss = 0.675\n",
      "Epoch  96 Batch    8/17   train_loss = 0.673\n",
      "Epoch  97 Batch    1/17   train_loss = 0.649\n",
      "Epoch  97 Batch   11/17   train_loss = 0.602\n",
      "Epoch  98 Batch    4/17   train_loss = 0.657\n",
      "Epoch  98 Batch   14/17   train_loss = 0.588\n",
      "Epoch  99 Batch    7/17   train_loss = 0.693\n",
      "Model Trained and Saved\n"
     ]
    }
   ],
   "source": [
    "\"\"\"\n",
    "DON'T MODIFY ANYTHING IN THIS CELL\n",
    "\"\"\"\n",
    "batches = get_batches(int_text, batch_size, seq_length)\n",
    "\n",
    "with tf.Session(graph=train_graph) as sess:\n",
    "    sess.run(tf.global_variables_initializer())\n",
    "\n",
    "    for epoch_i in range(num_epochs):\n",
    "        state = sess.run(initial_state, {input_text: batches[0][0]})\n",
    "\n",
    "        for batch_i, (x, y) in enumerate(batches):\n",
    "            feed = {\n",
    "                input_text: x,\n",
    "                targets: y,\n",
    "                initial_state: state,\n",
    "                lr: learning_rate}\n",
    "            train_loss, state, _ = sess.run([cost, final_state, train_op], feed)\n",
    "\n",
    "            # Show every <show_every_n_batches> batches\n",
    "            if (epoch_i * len(batches) + batch_i) % show_every_n_batches == 0:\n",
    "                print('Epoch {:>3} Batch {:>4}/{}   train_loss = {:.3f}'.format(\n",
    "                    epoch_i,\n",
    "                    batch_i,\n",
    "                    len(batches),\n",
    "                    train_loss))\n",
    "\n",
    "    # Save Model\n",
    "    saver = tf.train.Saver()\n",
    "    saver.save(sess, save_dir)\n",
    "    print('Model Trained and Saved')"
   ]
  },
  {
   "cell_type": "markdown",
   "metadata": {
    "deletable": true,
    "editable": true
   },
   "source": [
    "## Save Parameters\n",
    "Save `seq_length` and `save_dir` for generating a new TV script."
   ]
  },
  {
   "cell_type": "code",
   "execution_count": 26,
   "metadata": {
    "collapsed": false,
    "deletable": true,
    "editable": true
   },
   "outputs": [],
   "source": [
    "\"\"\"\n",
    "DON'T MODIFY ANYTHING IN THIS CELL\n",
    "\"\"\"\n",
    "# Save parameters for checkpoint\n",
    "helper.save_params((seq_length, save_dir))"
   ]
  },
  {
   "cell_type": "markdown",
   "metadata": {
    "deletable": true,
    "editable": true
   },
   "source": [
    "# Checkpoint"
   ]
  },
  {
   "cell_type": "code",
   "execution_count": 27,
   "metadata": {
    "collapsed": false,
    "deletable": true,
    "editable": true
   },
   "outputs": [],
   "source": [
    "\"\"\"\n",
    "DON'T MODIFY ANYTHING IN THIS CELL\n",
    "\"\"\"\n",
    "import tensorflow as tf\n",
    "import numpy as np\n",
    "import helper\n",
    "import problem_unittests as tests\n",
    "\n",
    "_, vocab_to_int, int_to_vocab, token_dict = helper.load_preprocess()\n",
    "seq_length, load_dir = helper.load_params()"
   ]
  },
  {
   "cell_type": "markdown",
   "metadata": {
    "deletable": true,
    "editable": true
   },
   "source": [
    "## Implement Generate Functions\n",
    "### Get Tensors\n",
    "Get tensors from `loaded_graph` using the function [`get_tensor_by_name()`](https://www.tensorflow.org/api_docs/python/tf/Graph#get_tensor_by_name).  Get the tensors using the following names:\n",
    "- \"input:0\"\n",
    "- \"initial_state:0\"\n",
    "- \"final_state:0\"\n",
    "- \"probs:0\"\n",
    "\n",
    "Return the tensors in the following tuple `(InputTensor, InitialStateTensor, FinalStateTensor, ProbsTensor)` "
   ]
  },
  {
   "cell_type": "code",
   "execution_count": 28,
   "metadata": {
    "collapsed": false,
    "deletable": true,
    "editable": true
   },
   "outputs": [
    {
     "name": "stdout",
     "output_type": "stream",
     "text": [
      "Tests Passed\n"
     ]
    }
   ],
   "source": [
    "def get_tensors(loaded_graph):\n",
    "    \"\"\"\n",
    "    Get input, initial state, final state, and probabilities tensor from <loaded_graph>\n",
    "    :param loaded_graph: TensorFlow graph loaded from file\n",
    "    :return: Tuple (InputTensor, InitialStateTensor, FinalStateTensor, ProbsTensor)\n",
    "    \"\"\"\n",
    "    input_tensor=loaded_graph.get_tensor_by_name(\"input:0\")\n",
    "    initial_state_tensor = loaded_graph.get_tensor_by_name(\"initial_state:0\")\n",
    "    final_state_tensor = loaded_graph.get_tensor_by_name(\"final_state:0\")\n",
    "    probs_tensor=loaded_graph.get_tensor_by_name(\"probs:0\")\n",
    "    \n",
    "    return (input_tensor, initial_state_tensor, final_state_tensor, probs_tensor)\n",
    "\n",
    "\n",
    "\"\"\"\n",
    "DON'T MODIFY ANYTHING IN THIS CELL THAT IS BELOW THIS LINE\n",
    "\"\"\"\n",
    "tests.test_get_tensors(get_tensors)"
   ]
  },
  {
   "cell_type": "markdown",
   "metadata": {
    "deletable": true,
    "editable": true
   },
   "source": [
    "### Choose Word\n",
    "Implement the `pick_word()` function to select the next word using `probabilities`."
   ]
  },
  {
   "cell_type": "code",
   "execution_count": 29,
   "metadata": {
    "collapsed": false,
    "deletable": true,
    "editable": true
   },
   "outputs": [
    {
     "name": "stdout",
     "output_type": "stream",
     "text": [
      "Tests Passed\n"
     ]
    }
   ],
   "source": [
    "def pick_word(probabilities, int_to_vocab):\n",
    "    \"\"\"\n",
    "    Pick the next word in the generated text\n",
    "    :param probabilities: Probabilites of the next word\n",
    "    :param int_to_vocab: Dictionary of word ids as the keys and words as the values\n",
    "    :return: String of the predicted word\n",
    "    \"\"\"\n",
    "    max_id = np.argmax(probabilities)\n",
    "    return int_to_vocab[max_id]\n",
    "\n",
    "\n",
    "\"\"\"\n",
    "DON'T MODIFY ANYTHING IN THIS CELL THAT IS BELOW THIS LINE\n",
    "\"\"\"\n",
    "tests.test_pick_word(pick_word)"
   ]
  },
  {
   "cell_type": "markdown",
   "metadata": {
    "deletable": true,
    "editable": true
   },
   "source": [
    "## Generate TV Script\n",
    "This will generate the TV script for you.  Set `gen_length` to the length of TV script you want to generate."
   ]
  },
  {
   "cell_type": "code",
   "execution_count": 30,
   "metadata": {
    "collapsed": false,
    "deletable": true,
    "editable": true,
    "scrolled": true
   },
   "outputs": [
    {
     "name": "stdout",
     "output_type": "stream",
     "text": [
      "moe_szyslak:(gets idea) actually homer...\n",
      "moe_szyslak:(to homer) so, uh, hey! you're the mr. smithers!\n",
      "moe_szyslak: no keys no.\n",
      "homer_simpson: shutup!\n",
      "kent_brockman:(realizing) my...(belches)\n",
      "moe_szyslak:(big) ooh!\n",
      "seymour_skinner:(sarcastic) okay, homer, i don't need for an alcoholic.\n",
      "homer_simpson:(drunk)\n",
      "homer_simpson: it's not here.\n",
      "homer_simpson:(grandiose) moron!\n",
      "homer_simpson:(re: tipsy) o. burns.\n",
      "moe_szyslak:(shocked) what is that too much or my life.\n",
      "homer_simpson:(on) but moe...\n",
      "moe_szyslak:(to barflies). uh...\n",
      "moe_szyslak:(lying) let me get 'em in this kid back, moe.\n",
      "homer_simpson:(moans) i'd buy this.\n",
      "lenny_leonard:(sad) yeah, who's a good woman.\n",
      "\n",
      "\n",
      "lenny_leonard:(smiling) but it might be a little.\n",
      "lenny_leonard:(singing) in the bar, moe?..\n",
      "\n"
     ]
    }
   ],
   "source": [
    "gen_length = 200\n",
    "# homer_simpson, moe_szyslak, or Barney_Gumble\n",
    "prime_word = 'moe_szyslak'\n",
    "\n",
    "\"\"\"\n",
    "DON'T MODIFY ANYTHING IN THIS CELL THAT IS BELOW THIS LINE\n",
    "\"\"\"\n",
    "loaded_graph = tf.Graph()\n",
    "with tf.Session(graph=loaded_graph) as sess:\n",
    "    # Load saved model\n",
    "    loader = tf.train.import_meta_graph(load_dir + '.meta')\n",
    "    loader.restore(sess, load_dir)\n",
    "\n",
    "    # Get Tensors from loaded model\n",
    "    input_text, initial_state, final_state, probs = get_tensors(loaded_graph)\n",
    "\n",
    "    # Sentences generation setup\n",
    "    gen_sentences = [prime_word + ':']\n",
    "    prev_state = sess.run(initial_state, {input_text: np.array([[1]])})\n",
    "\n",
    "    # Generate sentences\n",
    "    for n in range(gen_length):\n",
    "        # Dynamic Input\n",
    "        dyn_input = [[vocab_to_int[word] for word in gen_sentences[-seq_length:]]]\n",
    "        dyn_seq_length = len(dyn_input[0])\n",
    "\n",
    "        # Get Prediction\n",
    "        probabilities, prev_state = sess.run(\n",
    "            [probs, final_state],\n",
    "            {input_text: dyn_input, initial_state: prev_state})\n",
    "        \n",
    "        pred_word = pick_word(probabilities[dyn_seq_length-1], int_to_vocab)\n",
    "\n",
    "        gen_sentences.append(pred_word)\n",
    "    \n",
    "    # Remove tokens\n",
    "    tv_script = ' '.join(gen_sentences)\n",
    "    for key, token in token_dict.items():\n",
    "        ending = ' ' if key in ['\\n', '(', '\"'] else ''\n",
    "        tv_script = tv_script.replace(' ' + token.lower(), key)\n",
    "    tv_script = tv_script.replace('\\n ', '\\n')\n",
    "    tv_script = tv_script.replace('( ', '(')\n",
    "        \n",
    "    print(tv_script)"
   ]
  },
  {
   "cell_type": "markdown",
   "metadata": {
    "deletable": true,
    "editable": true
   },
   "source": [
    "# The TV Script is Nonsensical\n",
    "It's ok if the TV script doesn't make any sense.  We trained on less than a megabyte of text.  In order to get good results, you'll have to use a smaller vocabulary or get more data.  Luckly there's more data!  As we mentioned in the begging of this project, this is a subset of [another dataset](https://www.kaggle.com/wcukierski/the-simpsons-by-the-data).  We didn't have you train on all the data, because that would take too long.  However, you are free to train your neural network on all the data.  After you complete the project, of course.\n",
    "# Submitting This Project\n",
    "When submitting this project, make sure to run all the cells before saving the notebook. Save the notebook file as \"dlnd_tv_script_generation.ipynb\" and save it as a HTML file under \"File\" -> \"Download as\". Include the \"helper.py\" and \"problem_unittests.py\" files in your submission."
   ]
  },
  {
   "cell_type": "code",
   "execution_count": null,
   "metadata": {
    "collapsed": true,
    "deletable": true,
    "editable": true
   },
   "outputs": [],
   "source": []
  }
 ],
 "metadata": {
  "kernelspec": {
   "display_name": "Python 3",
   "language": "python",
   "name": "python3"
  },
  "language_info": {
   "codemirror_mode": {
    "name": "ipython",
    "version": 3
   },
   "file_extension": ".py",
   "mimetype": "text/x-python",
   "name": "python",
   "nbconvert_exporter": "python",
   "pygments_lexer": "ipython3",
   "version": "3.5.2"
  },
  "widgets": {
   "state": {},
   "version": "1.1.2"
  }
 },
 "nbformat": 4,
 "nbformat_minor": 0
}
